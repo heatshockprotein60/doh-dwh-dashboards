{
  "cells": [
    {
      "cell_type": "markdown",
      "metadata": {
        "id": "view-in-github",
        "colab_type": "text"
      },
      "source": [
        "<a href=\"https://colab.research.google.com/github/heatshockprotein60/doh-dwh-dashboards/blob/master/SARI_Line_List_Processing_25_GB_%F0%9F%94%A5.ipynb\" target=\"_parent\"><img src=\"https://colab.research.google.com/assets/colab-badge.svg\" alt=\"Open In Colab\"/></a>"
      ]
    },
    {
      "cell_type": "markdown",
      "metadata": {
        "id": "8HsKnhS9sik0"
      },
      "source": [
        "## **Initialize Notebook**"
      ]
    },
    {
      "cell_type": "markdown",
      "metadata": {
        "id": "qUHNrD_EllNg"
      },
      "source": [
        "Install Specific Dependencies"
      ]
    },
    {
      "cell_type": "code",
      "execution_count": null,
      "metadata": {
        "id": "lC26i2ApL_l9"
      },
      "outputs": [],
      "source": [
        "# !cat /proc/cpuinfo"
      ]
    },
    {
      "cell_type": "code",
      "execution_count": null,
      "metadata": {
        "id": "35z0_86T6Zhr"
      },
      "outputs": [],
      "source": [
        "%%capture\n",
        "!pip install pandas_access # for reading MS Access database\n",
        "# !sudo apt install mdbtools\n",
        "# !pip install meza\n",
        "# !pip install --upgrade string-grouper\n",
        "# !pip install fuzzywuzzy\n",
        "# !pip install python-Levenshtein\n",
        "!pip install gspread google-auth gspread-formatting\n",
        "# !pip install matplotlib seaborn"
      ]
    },
    {
      "cell_type": "code",
      "execution_count": null,
      "metadata": {
        "colab": {
          "base_uri": "https://localhost:8080/"
        },
        "id": "ts2GPeYdNvcM",
        "outputId": "35bfca01-3385-496e-9c9d-8223e5b150c9"
      },
      "outputs": [
        {
          "output_type": "stream",
          "name": "stdout",
          "text": [
            "Copying gs://doh-covid19-ops/linelist-service-account.json...\n",
            "/ [0 files][    0.0 B/  2.3 KiB]                                                \r/ [1 files][  2.3 KiB/  2.3 KiB]                                                \r\n",
            "Operation completed over 1 objects/2.3 KiB.                                      \n",
            "Drive already mounted at /content/drive; to attempt to forcibly remount, call drive.mount(\"/content/drive\", force_remount=True).\n",
            "Copying gs://doh-covid19-ops/linelist-service-account.json...\n",
            "/ [1 files][  2.3 KiB/  2.3 KiB]                                                \n",
            "Operation completed over 1 objects/2.3 KiB.                                      \n"
          ]
        }
      ],
      "source": [
        "# Import libraries\n",
        "import gspread\n",
        "from oauth2client.client import GoogleCredentials\n",
        "from gspread_formatting import *\n",
        "# from gspread_formatting import HorizontalAlignment\n",
        "import numpy as np\n",
        "import pandas as pd\n",
        "from IPython.display import HTML\n",
        "# from fuzzywuzzy import fuzz, process\n",
        "# import matplotlib.pyplot as plt\n",
        "# import seaborn as sns\n",
        "import os\n",
        "import csv\n",
        "import shutil\n",
        "import glob\n",
        "import re\n",
        "import time\n",
        "from datetime import timedelta\n",
        "from datetime import datetime as dt\n",
        "import datetime\n",
        "import pytz\n",
        "from google.colab import auth\n",
        "from google.cloud import bigquery\n",
        "from pydrive.auth import GoogleAuth\n",
        "from pydrive.drive import GoogleDrive\n",
        "from google.oauth2 import service_account\n",
        "import pandas_gbq as gbq\n",
        "# from tqdm import tqdm\n",
        "from google.colab import drive\n",
        "\n",
        "# Allow pandas to show all rows\n",
        "pd.set_option(\"display.max_rows\", None)\n",
        "pd.set_option(\"display.max_columns\", None)\n",
        "\n",
        "# Authentication - click the link, authenticate, and paste the given code\n",
        "from google.colab import auth\n",
        "auth.authenticate_user()\n",
        "\n",
        "# Get service account\n",
        "!gsutil cp gs://doh-covid19-ops/linelist-service-account.json service_account.json\n",
        "\n",
        "from google.colab import drive\n",
        "drive.mount('/content/drive')\n",
        "\n",
        "# BigQuery project\n",
        "project_id = 'doh-covid-dwh'\n",
        "dataset = 'sari_source'\n",
        "\n",
        "# Declare service account credentials for performing BQ actions\n",
        "scopes = [\n",
        "    \"https://www.googleapis.com/auth/bigquery\",\n",
        "    \"https://www.googleapis.com/auth/drive\",\n",
        "    'https://www.googleapis.com/auth/spreadsheets',\n",
        "]\n",
        "!gsutil cp gs://doh-covid19-ops/linelist-service-account.json service_account.json\n",
        "bq_credentials = service_account.Credentials.from_service_account_file(\"service_account.json\", scopes=scopes)\n",
        "\n",
        "# Define Gspread client\n",
        "gspread_client = gspread.authorize(bq_credentials)\n",
        "\n",
        "# BigQuery client - for reading and writing to database\n",
        "client = bigquery.Client(\n",
        "    project_id,\n",
        "    credentials=bq_credentials\n",
        "    )"
      ]
    },
    {
      "cell_type": "markdown",
      "metadata": {
        "id": "dkYUszA9kfBn"
      },
      "source": [
        "## **Define Global Variables**"
      ]
    },
    {
      "cell_type": "markdown",
      "source": [
        "### Run Date Checks"
      ],
      "metadata": {
        "id": "VyMIXuz1IJBZ"
      }
    },
    {
      "cell_type": "markdown",
      "source": [
        "### Specifying dates\n",
        "\n"
      ],
      "metadata": {
        "id": "76O3cjdTd8D3"
      }
    },
    {
      "cell_type": "code",
      "source": [
        "from datetime import datetime, timedelta\n",
        "import pytz\n",
        "\n",
        "# Set the target year\n",
        "target_year = 2024\n",
        "\n",
        "# Get the current date and time\n",
        "current_date = datetime.now()\n",
        "\n",
        "# Get the refresh date in 'Asia/Manila' timezone\n",
        "refresh_date = datetime.now(pytz.timezone('Asia/Manila')).date()\n",
        "refresh_date_str = refresh_date.strftime(\"%Y-%m-%d\")\n",
        "refresh_date_tablename = refresh_date_str.replace(\"-\", \"\")\n",
        "print(\"Run Date: {}\".format(refresh_date_str))\n",
        "\n",
        "# Calculate the previous run date (5 days before the refresh date)\n",
        "previous_date = refresh_date - timedelta(days=5)\n",
        "previous_date_str = previous_date.strftime(\"%Y-%m-%d\")\n",
        "previous_date_tablename = previous_date_str.replace(\"-\", \"\")\n",
        "print(\"Previous Run Date: {}\".format(previous_date_str))\n",
        "\n",
        "# Calculate the current week's Friday\n",
        "days_to_add = (4 - current_date.weekday()) % 7\n",
        "current_week_friday = current_date + timedelta(days=days_to_add)\n",
        "current_week_friday_str = current_week_friday.strftime(\"%Y-%m-%d\")\n",
        "current_week_friday_line_list = current_week_friday_str.replace(\"-\", \"\")\n",
        "print(\"Current Friday Line List: {}\".format(current_week_friday_line_list))\n",
        "\n",
        "# Calculate the current and previous week numbers\n",
        "current_week_number = current_date.isocalendar()[1]\n",
        "previous_week_number = current_week_number - 1\n",
        "previous_week_table_name = 'pidsr_source.sari_mw_{:02d}'.format(previous_week_number)\n",
        "print(\"Previous week table name:\", previous_week_table_name)\n",
        "\n",
        "# Calculate last week's Saturday\n",
        "days_to_subtract = (current_date.weekday() + 2) % 7  # Adding 1 to get Saturday of last week\n",
        "last_week_saturday = current_date - timedelta(days=days_to_subtract)\n",
        "last_week_saturday_str = last_week_saturday.strftime(\"%Y-%m-%d\")\n",
        "last_week_saturday_line_list = last_week_saturday_str.replace(\"-\", \"\")\n",
        "print(\"Last Week Saturday Line List: {}\".format(last_week_saturday_line_list))\n",
        "\n",
        "# Calculate the last two Sundays\n",
        "days_to_sunday = (current_date.weekday() + 1) % 7  # Current week's Sunday\n",
        "current_sunday = current_date - timedelta(days=days_to_sunday)\n",
        "current_sunday_str = current_sunday.strftime(\"%Y-%m-%d\")\n",
        "current_sunday_line_list = current_sunday_str.replace(\"-\", \"\")\n",
        "print(\"Current Sunday Line List: {}\".format(current_sunday_line_list))\n",
        "\n",
        "last_sunday = current_sunday - timedelta(days=7)\n",
        "last_sunday_str = last_sunday.strftime(\"%Y-%m-%d\")\n",
        "last_sunday_line_list = last_sunday_str.replace(\"-\", \"\")\n",
        "print(\"Last Sunday Line List: {}\".format(last_sunday_line_list))\n",
        "\n",
        "# Calculate the last two Fridays\n",
        "last_friday = current_week_friday - timedelta(days=7)\n",
        "last_friday_str = last_friday.strftime(\"%Y-%m-%d\")\n",
        "last_friday_line_list = last_friday_str.replace(\"-\", \"\")\n",
        "print(\"Last Friday Line List: {}\".format(last_friday_line_list))"
      ],
      "metadata": {
        "colab": {
          "base_uri": "https://localhost:8080/"
        },
        "id": "wTEQuKvYth6v",
        "outputId": "e942dd76-3c1a-4e61-e8c1-39d4002e1d88"
      },
      "execution_count": null,
      "outputs": [
        {
          "output_type": "stream",
          "name": "stdout",
          "text": [
            "Run Date: 2024-07-18\n",
            "Previous Run Date: 2024-07-13\n",
            "Current Friday Line List: 20240719\n",
            "Previous week table name: pidsr_source.sari_mw_28\n",
            "Last Week Saturday Line List: 20240713\n",
            "Current Sunday Line List: 20240714\n",
            "Last Sunday Line List: 20240707\n",
            "Last Friday Line List: 20240712\n"
          ]
        }
      ]
    },
    {
      "cell_type": "markdown",
      "source": [
        "## **Processing ILI Data from TKC**"
      ],
      "metadata": {
        "id": "4nICRVjrWzET"
      }
    },
    {
      "cell_type": "code",
      "source": [
        "tkc_upload = input(\"Are you able to upload latest TKC extract? (Y/N): \")\n",
        "\n",
        "while tkc_upload != \"Y\" and tkc_upload != \"N\":\n",
        "  tkc_upload = input(\"Are you able to upload latest TKC extract? (Y/N): \")\n",
        "else:\n",
        "  if tkc_upload == \"Y\":\n",
        "    print(\"\\nProceeding with the process.\")\n",
        "  else:\n",
        "    raise Exception(\"\\n\\nPlease upload latest file at https://drive.google.com/drive/u/3/folders/1odpQi1CL_fg04Q-JCsTMPYKWk0qlWmyL before running the code below.\")"
      ],
      "metadata": {
        "colab": {
          "base_uri": "https://localhost:8080/"
        },
        "id": "dQosVkEa8ZE1",
        "outputId": "a069e32e-0822-4822-b981-40adcf159099"
      },
      "execution_count": null,
      "outputs": [
        {
          "output_type": "stream",
          "name": "stdout",
          "text": [
            "Are you able to upload latest TKC extract? (Y/N): Y\n",
            "\n",
            "Proceeding with the process.\n"
          ]
        }
      ]
    },
    {
      "cell_type": "markdown",
      "source": [
        "### **Accessing latest file from TKC extract folder**"
      ],
      "metadata": {
        "id": "2YmQkBWq9mni"
      }
    },
    {
      "cell_type": "code",
      "source": [
        "# Folder ID of TKC Extracts folder\n",
        "# link: https://drive.google.com/drive/u/3/folders/1odpQi1CL_fg04Q-JCsTMPYKWk0qlWmyL\n",
        "folder_id = '1odpQi1CL_fg04Q-JCsTMPYKWk0qlWmyL'\n",
        "\n",
        "# Authenticate and create PyDrive client\n",
        "gauth = GoogleAuth()\n",
        "gauth.credentials = GoogleCredentials.get_application_default()\n",
        "drive = GoogleDrive(gauth)\n",
        "\n",
        "# List all files in the folder\n",
        "file_list = drive.ListFile({'q': f\"'{folder_id}' in parents and trashed=false\"}).GetList()\n",
        "\n",
        "# Find the CSV file for current MW\n",
        "tkc_file_name = \"SARI MW\" + str(previous_week_number) + \".csv\"\n",
        "\n",
        "# Search for the file in the specified folder\n",
        "target_file = None\n",
        "for file in file_list:\n",
        "  if file['title'] == tkc_file_name:\n",
        "    target_file = file\n",
        "    break\n",
        "\n",
        "if target_file:\n",
        "  # Get the file ID\n",
        "  target_file_id = target_file['id']\n",
        "\n",
        "  # Download the file\n",
        "  file_path = f\"/content/{tkc_file_name}\"\n",
        "  file = drive.CreateFile({'id': target_file_id})\n",
        "  file.GetContentFile(file_path)\n",
        "\n",
        "  dtype_tkc = {'house_village_name': str,\n",
        "               'apartment_unit_number': str,\n",
        "               'apartment_floor_number': str,\n",
        "               'permanent_address_city': str,\n",
        "               'has_travel_abroad': str,\n",
        "               'outcome': str\n",
        "               }\n",
        "\n",
        "  tkc_extract_df = pd.read_csv(file_path, dtype=dtype_tkc)\n",
        "  print(\"\\nSuccessfully read \" + tkc_file_name + \".\\n\")\n",
        "else:\n",
        "  print(\"\\nFile '{tkc_file_name}' not found or not yet uploaded in the TKC Extracts GDrive folder.\")"
      ],
      "metadata": {
        "id": "RJDQAyWSxwit",
        "colab": {
          "base_uri": "https://localhost:8080/"
        },
        "outputId": "3a91f9fc-fbe7-4df9-bc18-45a8ad535137"
      },
      "execution_count": null,
      "outputs": [
        {
          "output_type": "stream",
          "name": "stdout",
          "text": [
            "\n",
            "Successfully read SARI MW28.csv.\n",
            "\n"
          ]
        }
      ]
    },
    {
      "cell_type": "markdown",
      "source": [
        "### **Initial cleaning and uploading to BQ**"
      ],
      "metadata": {
        "id": "JXASj3Eg9tGo"
      }
    },
    {
      "cell_type": "code",
      "source": [
        "# Initial cleaning of TKC extract before uploading to BQ\n",
        "\n",
        "## change column names\n",
        "# tkc_extract_df['admission_date'] = tkc_extract_df['addmission_date']\n",
        "\n",
        "# ## fix format of date columns -- fix in BQ instead\n",
        "# date_columns = ['created_at', 'birthdate', 'date_death',\n",
        "#                 'admission_date', 'date_onset_of_illness',\n",
        "#                 'date_collected', 'vaccination_date']\n",
        "\n",
        "# for col in date_columns:\n",
        "#   tkc_extract_df[col] = tkc_extract_df[col].strip()\n",
        "#   tkc_extract_df[f\"{col}_formatted\"] = pd.to_datetime(tkc_extract_df[col], errors='coerce', format='mixed')\n",
        "#   tkc_extract_df[f\"{col}_formatted\"] = tkc_extract_df[f\"{col}_formatted\"].dt.strftime('%Y-%m-%d')\n",
        "\n",
        "## drop unnecessary variables\n",
        "to_delete_vars = ['type', 'tkc_id', 'civil_status', 'telephone_number', 'cellphone_number', 'email_address',\n",
        "                  'current_address_district', 'current_address_house_number', 'permanent_address_district', 'employer_name', 'work_address',\n",
        "                  ]\n",
        "\n",
        "tkc_extract_df = tkc_extract_df.drop(to_delete_vars, axis=1)\n",
        "\n",
        "## convert NaN values in object columns to None\n",
        "tkc_extract_df = tkc_extract_df.where(pd.notnull(tkc_extract_df), None)\n",
        "\n",
        "## convert string values to UPPER case\n",
        "# Convert 'object' columns to string type\n",
        "object_columns = tkc_extract_df.select_dtypes(include=['object']).columns\n",
        "for col in object_columns:\n",
        "    tkc_extract_df[col] = tkc_extract_df[col].astype(str)\n",
        "\n",
        "# Convert all values to uppercase\n",
        "for col in object_columns:\n",
        "    tkc_extract_df[col] = tkc_extract_df[col].str.upper()\n",
        "\n",
        "# Convert back NONEs to None\n",
        "tkc_extract_df = tkc_extract_df.applymap(lambda x: None if x == 'NONE' else x)"
      ],
      "metadata": {
        "id": "EnqfIegs5A6M"
      },
      "execution_count": null,
      "outputs": []
    },
    {
      "cell_type": "code",
      "source": [
        "# Upload TKC data to BigQuery\n",
        "\n",
        "tablename = \"sari_source.10_sari_tkc_\" + refresh_date_tablename\n",
        "tablename_latest = \"sari_source.10_sari_tkc_latest\"\n",
        "\n",
        "for table in [tablename, tablename_latest]:\n",
        "  tkc_extract_df.to_gbq(destination_table=f\"{project_id}.{table}\",\n",
        "                        project_id=project_id,\n",
        "                        if_exists=\"replace\",\n",
        "                        credentials=bq_credentials)\n",
        "  print(f'Successfully materialized {table}')"
      ],
      "metadata": {
        "id": "1h_6hPmVCTrz"
      },
      "execution_count": null,
      "outputs": []
    },
    {
      "cell_type": "markdown",
      "source": [
        "### **Pre-process ILI Data from TKC**"
      ],
      "metadata": {
        "id": "mA85_R-c_v_y"
      }
    },
    {
      "cell_type": "code",
      "source": [
        "query = \"\"\"CALL `{}.{}.sp_tkc_cleaning`()\"\"\".format(project_id, dataset)\n",
        "\n",
        "job = client.query(query)\n",
        "job.result()"
      ],
      "metadata": {
        "id": "e9DltJkvVI_8",
        "colab": {
          "base_uri": "https://localhost:8080/"
        },
        "outputId": "57607165-0bd0-4d18-fc34-0f17ddcd57c6"
      },
      "execution_count": null,
      "outputs": [
        {
          "output_type": "execute_result",
          "data": {
            "text/plain": [
              "<google.cloud.bigquery.table._EmptyRowIterator at 0x784b52622e30>"
            ]
          },
          "metadata": {},
          "execution_count": 5
        }
      ]
    },
    {
      "cell_type": "markdown",
      "source": [
        "## **Processing SARI Data from EDCS-IS**"
      ],
      "metadata": {
        "id": "SnD_ALkQAwYJ"
      }
    },
    {
      "cell_type": "code",
      "source": [
        "query_column_check = \"SELECT * FROM `edcs_10_source.sari_view_lab_latest` LIMIT 1\"\n",
        "\n",
        "query_column_check = gbq.read_gbq(query_column_check, project_id = project_id, credentials = bq_credentials)\n",
        "print(\"Row count: \", query_precleaned.shape[0])\n",
        "df_21 = query_column_check"
      ],
      "metadata": {
        "id": "7pz--DCuYVGL"
      },
      "execution_count": null,
      "outputs": []
    },
    {
      "cell_type": "code",
      "source": [
        "columns = [\n",
        "    \"ACINETOBACTER CALCOACETICUS\",\"ACINETOBACTER CALCOACETICUS, RSV\",\"ACINETOBACTER LWOFFII\",\"CHLAMYDIA PNEUMONIAE\",\"ENTEROBACTER CLOACAE\",\"HADV\",\"HADV, HBOV\",\n",
        "    \"HADV, HPIV-4\",\"HADV, KLEBSIELLA PNEUMONIAE\",\"HAEMOPHILUS INFLUENZAE\",\"HAEMOPHILUS INFLUENZAE, HMPV\",\"HBOV\",\"HBOV, HADV\",\"HBOV, HRV\",\"HCOV\",\"HCOV-229E\",\"HCOV-229E, HMPV\",\"HCOV-HKU1\",\n",
        "    \"HCOV-NL63\",\"HCOV-NL63, HADV\",\"HCOV-NL63, HMPV\",\"HCOV-OC43\",\"HCOV-OC43, HADV\",\"HCOV-OC43, HBOV\",\"HCOV-OC43, HEV\",\"HCOV-OC43, HPIV-1\",\"HCOV-OC43, HPIV-4\",\"HCOV-OC43, HRV\",\n",
        "    \"HEV\",\"HEV, HRV\",\"HEV, HRV, RSV\",\"HEV, RSV\",\"HMPV\",\"HMPV, HADV\",\"HMPV, HBOV\",\"HMPV, HPEV\",\"HPEV\",\"HPIV\",\"HPIV-1\",\"HPIV-1, HADV\",\"HPIV-1, HBOV\",\"HPIV-2\",\"HPIV-2, HADV\",\n",
        "    \"HPIV-2, HBOV\",\"HPIV-3\",\"HPIV-3, HADV\",\"HPIV-3, HBOV\",\"HPIV-3, HBOV, HADV\",\"HPIV-3, HRV\",\"HPIV-4\",\"HPIV-4, HRV\",\"HRV\",\"HRV, EVM HADV\",\"HRV, HBOV, HADV\",\"HRV, HBOV, HEV\",\n",
        "    \"HRV, HCOV-229E, HBOV\",\"HRV, HCOV-NL63\",\"HRV, HCOV-NL63, HEV\",\"HRV, HCOV-OC43\",\"HRV, HEV, HADV\",\"HRV, HEV, HPEV\",\"HRV, HMPV\",\"HRV, HMPV, HADV\",\"HRV, HMPV, HBOV\",\n",
        "    \"HRV, HPEV\",\"HRV, HPIV-1\",\"HRV, HPIV-3\",\"HRV, HPIV-3, HBOV\",\"MYCOPLASMA PNEUMONIAE, HRV\",\"HRV,HBOV, HEV\",\"INFLUENZA A\",\"INFLUENZA A (H1N1)\",\"INFLUENZA A (H1N1), HRV\",\n",
        "    \"INFLUENZA A (H3)\",\"INFLUENZA A (H3), RSV\",\"INFLUENZA A, INFLUENZA B\",\"INFLUENZA A, RSV\",\"INFLUENZA B\",\"INFLUENZA B (VICTORIA-LINEAGE)\",\"INFLUENZA B (VICTORIA-LINEAGE), RSV\",\n",
        "    \"INFLUENZA B (VICTORIA-LINEAGE), SARS-COV-2\",\"KLEBSIELLA PNEUMONIAE\",\"MORAXELLA CATARRHALIS\",\"MYCOPLASMA PNEUMONIAE\",\"PSEUDOMONAS AERUGINOSA\",\"RSV\",\"RSV-A\",\"RSV-B\",\n",
        "    \"SARS-COV-2\",\"SARS-COV-2, RSV\",\"STAPHYLOCOCCUS AUREUS\",\"STREPTOCOCCUS PNEUMONIAE\",\"HEV, HPIV-3\"\n",
        "]"
      ],
      "metadata": {
        "id": "9vCWKf-3ZPdr"
      },
      "execution_count": null,
      "outputs": []
    },
    {
      "cell_type": "code",
      "source": [
        "# check if schema is as expected\n",
        "missing_fields = [column for column in df_21.columns if column not in standard_column_list]\n",
        "new_fields = [column for column in columns if column not in df_21.columns]\n",
        "if len(missing_fields) != 0 or len(new_fields) != 0:\n",
        "  raise Exception(f\"There are missing/new fields in today's extract! Please check if this is expected!! \\nMissing Fields: {len(missing_fields)}\\nNew Fields: {len(new_fields)}\")\n",
        "print(\"There are no missing/new fields in today's extract! Please proceed!!\")"
      ],
      "metadata": {
        "id": "Oq0coKmiZkFN"
      },
      "execution_count": null,
      "outputs": []
    },
    {
      "cell_type": "markdown",
      "source": [
        "### **Extract SARI Data from EDCS-IS**"
      ],
      "metadata": {
        "id": "QV_e23xp92Yu"
      }
    },
    {
      "cell_type": "code",
      "source": [
        "query = \"\"\"CALL `{}.{}.sp_edcs_extraction`()\"\"\".format(project_id, dataset)\n",
        "\n",
        "job = client.query(query)\n",
        "job.result()"
      ],
      "metadata": {
        "id": "TxQoflYPU8jg",
        "colab": {
          "base_uri": "https://localhost:8080/"
        },
        "outputId": "5fa80a1b-ef6a-4146-ce6a-ba10884f73a2"
      },
      "execution_count": null,
      "outputs": [
        {
          "output_type": "execute_result",
          "data": {
            "text/plain": [
              "<google.cloud.bigquery.table._EmptyRowIterator at 0x784b52623a30>"
            ]
          },
          "metadata": {},
          "execution_count": 6
        }
      ]
    },
    {
      "cell_type": "markdown",
      "source": [
        "### **Pre-process SARI Data from EDCS-IS**"
      ],
      "metadata": {
        "id": "ueNbKXBb_GJl"
      }
    },
    {
      "cell_type": "code",
      "source": [
        "query = \"\"\"CALL `{}.{}.sp_edcs_cleaning`()\"\"\".format(project_id, dataset)\n",
        "\n",
        "job = client.query(query)\n",
        "job.result()"
      ],
      "metadata": {
        "id": "fMC2LRp1VzWC",
        "colab": {
          "base_uri": "https://localhost:8080/"
        },
        "outputId": "d168f022-5e60-44ea-8a09-7199a505a763"
      },
      "execution_count": null,
      "outputs": [
        {
          "output_type": "execute_result",
          "data": {
            "text/plain": [
              "<google.cloud.bigquery.table._EmptyRowIterator at 0x7fb376715c90>"
            ]
          },
          "metadata": {},
          "execution_count": 5
        }
      ]
    },
    {
      "cell_type": "code",
      "source": [
        "query_precleaned = \"\"\"SELECT * FROM `{}.{}.15_sari_edcs_latest`\"\"\".format(project_id, dataset)\n",
        "\n",
        "query_precleaned = gbq.read_gbq(query_precleaned, project_id = project_id, credentials = bq_credentials)\n",
        "print(\"Row count: \", query_precleaned.shape[0])\n",
        "df_21 = query_precleaned"
      ],
      "metadata": {
        "colab": {
          "base_uri": "https://localhost:8080/"
        },
        "id": "JYBt4-oCStYx",
        "outputId": "56123ac2-8416-4022-80f3-37ba568b2213"
      },
      "execution_count": null,
      "outputs": [
        {
          "output_type": "stream",
          "name": "stdout",
          "text": [
            "Downloading: 100%|\u001b[32m██████████\u001b[0m|\n",
            "Row count:  8653\n"
          ]
        }
      ]
    },
    {
      "cell_type": "markdown",
      "source": [
        "**Perform Checks On Organism**"
      ],
      "metadata": {
        "id": "RynHsb6HS24Q"
      }
    },
    {
      "cell_type": "code",
      "source": [
        "# Define list of organisms\n",
        "raw_organism_class = [\n",
        "    \"ACINETOBACTER CALCOACETICUS\",\"ACINETOBACTER CALCOACETICUS, RSV\",\"ACINETOBACTER LWOFFII\",\"CHLAMYDIA PNEUMONIAE\",\"ENTEROBACTER CLOACAE\",\"HADV\",\"HADV, HBOV\",\n",
        "    \"HADV, HPIV-4\",\"HADV, KLEBSIELLA PNEUMONIAE\",\"HAEMOPHILUS INFLUENZAE\",\"HAEMOPHILUS INFLUENZAE, HMPV\",\"HBOV\",\"HBOV, HADV\",\"HBOV, HRV\",\"HCOV\",\"HCOV-229E\",\"HCOV-229E, HMPV\",\"HCOV-HKU1\",\n",
        "    \"HCOV-NL63\",\"HCOV-NL63, HADV\",\"HCOV-NL63, HMPV\",\"HCOV-OC43\",\"HCOV-OC43, HADV\",\"HCOV-OC43, HBOV\",\"HCOV-OC43, HEV\",\"HCOV-OC43, HPIV-1\",\"HCOV-OC43, HPIV-4\",\"HCOV-OC43, HRV\",\n",
        "    \"HEV\",\"HEV, HRV\",\"HEV, HRV, RSV\",\"HEV, RSV\",\"HMPV\",\"HMPV, HADV\",\"HMPV, HBOV\",\"HMPV, HPEV\",\"HPEV\",\"HPIV\",\"HPIV-1\",\"HPIV-1, HADV\",\"HPIV-1, HBOV\",\"HPIV-2\",\"HPIV-2, HADV\",\n",
        "    \"HPIV-2, HBOV\",\"HPIV-3\",\"HPIV-3, HADV\",\"HPIV-3, HBOV\",\"HPIV-3, HBOV, HADV\",\"HPIV-3, HRV\",\"HPIV-4\",\"HPIV-4, HRV\",\"HRV\",\"HRV, EVM HADV\",\"HRV, HBOV, HADV\",\"HRV, HBOV, HEV\",\n",
        "    \"HRV, HCOV-229E, HBOV\",\"HRV, HCOV-NL63\",\"HRV, HCOV-NL63, HEV\",\"HRV, HCOV-OC43\",\"HRV, HEV, HADV\",\"HRV, HEV, HPEV\",\"HRV, HMPV\",\"HRV, HMPV, HADV\",\"HRV, HMPV, HBOV\",\n",
        "    \"HRV, HPEV\",\"HRV, HPIV-1\",\"HRV, HPIV-3\",\"HRV, HPIV-3, HBOV\",\"MYCOPLASMA PNEUMONIAE, HRV\",\"HRV,HBOV, HEV\",\"INFLUENZA A\",\"INFLUENZA A (H1N1)\",\"INFLUENZA A (H1N1), HRV\",\n",
        "    \"INFLUENZA A (H3)\",\"INFLUENZA A (H3), RSV\",\"INFLUENZA A, INFLUENZA B\",\"INFLUENZA A, RSV\",\"INFLUENZA B\",\"INFLUENZA B (VICTORIA-LINEAGE)\",\"INFLUENZA B (VICTORIA-LINEAGE), RSV\",\n",
        "    \"INFLUENZA B (VICTORIA-LINEAGE), SARS-COV-2\",\"KLEBSIELLA PNEUMONIAE\",\"MORAXELLA CATARRHALIS\",\"MYCOPLASMA PNEUMONIAE\",\"PSEUDOMONAS AERUGINOSA\",\"RSV\",\"RSV-A\",\"RSV-B\",\n",
        "    \"SARS-COV-2\",\"SARS-COV-2, RSV\",\"STAPHYLOCOCCUS AUREUS\",\"STREPTOCOCCUS PNEUMONIAE\",\"HEV, HPIV-3\"\n",
        "]\n",
        "\n",
        "df_21['organism'] = df_21['organism'].str.upper().str.strip()\n",
        "df_21e = df_21[['organism']][~df_21['organism'].isin(raw_organism_class)]\n",
        "df_21e = df_21e.dropna()\n",
        "\n",
        "if df_21e.shape[0] > 0:\n",
        "  display(HTML(df_21e.to_html(index=False)))\n",
        "  print(\"There are unidentified organisms with {} rows listed above. Perform code revisions on organisms!\".format(df_21e.shape[0]))\n",
        "else:\n",
        "  print(f\"All checks passed\")"
      ],
      "metadata": {
        "colab": {
          "base_uri": "https://localhost:8080/"
        },
        "id": "SF1vo3WpS7_P",
        "outputId": "f99c4754-19bf-40ee-8688-debc2a1ac660"
      },
      "execution_count": null,
      "outputs": [
        {
          "output_type": "stream",
          "name": "stdout",
          "text": [
            "All checks passed\n"
          ]
        }
      ]
    },
    {
      "cell_type": "code",
      "source": [
        "# Define list of laboratory results\n",
        "raw_lab_result_class = [\n",
        "      \"EQUIVOCAL\",\"NEGATIVE\",\"NON POLIO ENTERO VIRUS\",\"NONE\",\"PENDING\",\"POSITIVE\",\"JAPANESE ENCEPHALITIS\",\"N.MENINGITIDIS\",\"INDETERMINATE\",\"NOT PROCESSED\",\"UNKNOWN\"\n",
        "]\n",
        "\n",
        "df_21g = df_21[['lab_result']][~df_21['lab_result'].isin(raw_lab_result_class)]\n",
        "df_21g = df_21g.dropna()\n",
        "\n",
        "if df_21g.shape[0] > 0:\n",
        "  display(HTML(df_21g.to_html(index=False)))\n",
        "  print(\"There are unidentified laboratory results with {} rows listed above. Perform code revisions on laboratory results!\".format(df_21g.shape[0]))\n",
        "else:\n",
        "  print(f\"All checks passed\")"
      ],
      "metadata": {
        "colab": {
          "base_uri": "https://localhost:8080/"
        },
        "id": "EVy-tgDUUTXK",
        "outputId": "9354b8e2-9212-4d67-d991-11700daedcff"
      },
      "execution_count": null,
      "outputs": [
        {
          "output_type": "stream",
          "name": "stdout",
          "text": [
            "All checks passed\n"
          ]
        }
      ]
    },
    {
      "cell_type": "markdown",
      "source": [
        "## **Processing SARI Data from Transmittals**"
      ],
      "metadata": {
        "id": "NVg69k2RXq6a"
      }
    },
    {
      "cell_type": "code",
      "source": [
        "# query = \"\"\"CALL `{}.{}.sp_trans_cleaning`()\"\"\".format(project_id, dataset)\n",
        "\n",
        "# job = client.query(query)\n",
        "# job.result()"
      ],
      "metadata": {
        "colab": {
          "base_uri": "https://localhost:8080/"
        },
        "id": "r388M-TxXqch",
        "outputId": "c0c5e557-70f4-4df5-be06-d715d1898db8"
      },
      "execution_count": null,
      "outputs": [
        {
          "output_type": "execute_result",
          "data": {
            "text/plain": [
              "<google.cloud.bigquery.table._EmptyRowIterator at 0x7c59bf3d0d60>"
            ]
          },
          "metadata": {},
          "execution_count": 20
        }
      ]
    },
    {
      "cell_type": "markdown",
      "source": [
        "## **Merging of TKC and EDCS-IS data**"
      ],
      "metadata": {
        "id": "rzvgW3fOBeA0"
      }
    },
    {
      "cell_type": "code",
      "source": [
        "query = \"\"\"CALL `{}.{}.sp_merging`(\"{}\", \"{}\", \"{}\", \"{}\")\"\"\".format(project_id, dataset, last_sunday_str, last_week_saturday_str, last_sunday_str, last_week_saturday_str)\n",
        "\n",
        "job = client.query(query)\n",
        "job.result()"
      ],
      "metadata": {
        "colab": {
          "base_uri": "https://localhost:8080/"
        },
        "id": "oUBDlXLMNtZi",
        "outputId": "62720f25-6ff0-4e12-e101-845be3a6c9e2"
      },
      "execution_count": null,
      "outputs": [
        {
          "output_type": "execute_result",
          "data": {
            "text/plain": [
              "<google.cloud.bigquery.table._EmptyRowIterator at 0x78aa27bcec80>"
            ]
          },
          "metadata": {},
          "execution_count": 18
        }
      ]
    },
    {
      "cell_type": "markdown",
      "source": [
        "### **Perform Quality Checks**"
      ],
      "metadata": {
        "id": "K8q5yoIxGexz"
      }
    },
    {
      "cell_type": "code",
      "source": [
        "# query EDCS\n",
        "query_edcs = \"\"\"\n",
        "    SELECT\n",
        "      COUNT(1) count\n",
        "    FROM `ili_source.15_ili_edcs_latest`\n",
        "    WHERE last_modified_date >= \"{}\" AND proxy_onset_date BETWEEN \"2023-01-01\" AND \"2024-12-31\"\n",
        "\"\"\".format(lmd_start_date_str)\n",
        "\n",
        "query_edcs = gbq.read_gbq(query_edcs, project_id = project_id, credentials = bq_credentials)\n",
        "df_edcs = query_edcs\n",
        "\n",
        "\n",
        "# query TKC\n",
        "query_tkc = \"\"\"\n",
        "    SELECT\n",
        "      COUNT(1) count\n",
        "    FROM `ili_source.15_ili_tkc_latest`\n",
        "    WHERE entry_date >= \"{}\" AND proxy_onset_date BETWEEN \"2023-01-01\" AND \"2024-12-31\"\n",
        "\"\"\".format(lmd_start_date_str)\n",
        "\n",
        "query_tkc = gbq.read_gbq(query_tkc, project_id = project_id, credentials = bq_credentials)\n",
        "df_tkc = query_tkc\n",
        "\n",
        "# query merged\n",
        "query_merged = \"\"\"SELECT COUNT(1) count FROM `ili_source.20_ili_merged_latest`\"\"\"\n",
        "\n",
        "query_merged = gbq.read_gbq(query_merged, project_id = project_id, credentials = bq_credentials)\n",
        "df_merged = query_merged\n",
        "\n",
        "# Display row numbers of individual tables\n",
        "print(\"\\nCurrent EDCS extract row count: \", df_edcs['count'].iloc[0])\n",
        "print(\"Current TKC extract row count: \", df_tkc['count'].iloc[0])\n",
        "print(\"Current merged linelist row count: \", df_merged['count'].iloc[0])\n",
        "\n",
        "# Checks\n",
        "if df_merged['count'].iloc[0] > df_edcs['count'].iloc[0] + df_tkc['count'].iloc[0]:\n",
        "  raise Exception(\"\\nCheck merging of EDCS and TKC, total row count for merged should be at most \"+ str(df_edcs['count'].iloc[0] + df_tkc['count'].iloc[0]) + \". Current row count is \" + str(df_merged['count'].iloc[0]) + \".\")\n",
        "else:\n",
        "  print(\"\\nRow counts are as expected!\")"
      ],
      "metadata": {
        "colab": {
          "base_uri": "https://localhost:8080/"
        },
        "id": "YXXgBnZgGiQu",
        "outputId": "20da6dbc-5de1-408f-d0a5-ff34ec8293f4"
      },
      "execution_count": null,
      "outputs": [
        {
          "output_type": "stream",
          "name": "stdout",
          "text": [
            "Downloading: 100%|\u001b[32m██████████\u001b[0m|\n",
            "Downloading: 100%|\u001b[32m██████████\u001b[0m|\n",
            "Downloading: 100%|\u001b[32m██████████\u001b[0m|\n",
            "\n",
            "Current EDCS extract row count:  3229\n",
            "Current TKC extract row count:  1135\n",
            "Current merged linelist row count:  4227\n",
            "\n",
            "Row counts are as expected!\n"
          ]
        }
      ]
    },
    {
      "cell_type": "markdown",
      "source": [
        "## **Checking for Duplicates**"
      ],
      "metadata": {
        "id": "hQsWZVm9RjY2"
      }
    },
    {
      "cell_type": "markdown",
      "source": [
        "### **Setting up manual dedup sheet**"
      ],
      "metadata": {
        "id": "g5K6ynecRmN4"
      }
    },
    {
      "cell_type": "code",
      "source": [
        "# Define function to read worksheet\n",
        "def get_worksheet(spreadsheet_id, sheet_name):\n",
        "    try:\n",
        "        workbook = gspread_client.open_by_key(spreadsheet_id)\n",
        "    except Exception as e:\n",
        "        print(\"\\nCopy error!\")\n",
        "        print(\"Please check the spreadsheet: https://docs.google.com/spreadsheets/d/{}\".format(spreadsheet_id))\n",
        "        print(\"Please make sure that the service account 'data-drop-service-account@doh-covid-dwh.iam.gserviceaccount.com' has access to the above sheet.\")\n",
        "        raise e\n",
        "\n",
        "    sheet = workbook.worksheet(sheet_name)\n",
        "    return sheet\n",
        "\n",
        "worksheet = get_worksheet(\"1GZrM54aUfcNbz6mtM9cyCa_BT_0WSnOL2pFcYt4fai8\", \"manual_dedup\")"
      ],
      "metadata": {
        "id": "kWOeQkftRqGA"
      },
      "execution_count": null,
      "outputs": []
    },
    {
      "cell_type": "markdown",
      "source": [
        "### **Check records to be auto-dropped**"
      ],
      "metadata": {
        "id": "fombMhnMRtCd"
      }
    },
    {
      "cell_type": "code",
      "source": [
        "# Checking if there are weird cases to be auto-dropped\n",
        "\n",
        "query_checks = \"\"\" SELECT * FROM `{}.{}.vw_auto_drop_dups` \"\"\".format(project_id, dataset)\n",
        "\n",
        "df_auto_drop = gbq.read_gbq(query_checks, project_id = project_id, credentials = bq_credentials)\n",
        "print(\"\\nCheck if the following is correct. No is_new = \"\"N\"\" should be dropped.\\n\")\n",
        "print(df_auto_drop)"
      ],
      "metadata": {
        "id": "qVlbc3-CRwmX",
        "colab": {
          "base_uri": "https://localhost:8080/"
        },
        "outputId": "fe30adc7-b659-414f-f909-3663a8a6360c"
      },
      "execution_count": null,
      "outputs": [
        {
          "output_type": "stream",
          "name": "stdout",
          "text": [
            "Downloading: 100%|\u001b[32m██████████\u001b[0m|\n",
            "\n",
            "Check if the following is correct. No is_new = N should be dropped.\n",
            "\n",
            "  auto_drop_tag   caseid_tag is_new   count\n",
            "0  for dropping    no caseid      Y     370\n",
            "1  for dropping  with caseid      N       8\n",
            "2        retain    no caseid      Y    3857\n",
            "3        retain  with caseid      N  276560\n"
          ]
        }
      ]
    },
    {
      "cell_type": "markdown",
      "source": [
        "### **Generating Records for Manual Dedup**"
      ],
      "metadata": {
        "id": "5uR-42vmR1ap"
      }
    },
    {
      "cell_type": "code",
      "source": [
        "query_dedup = \"\"\" SELECT * FROM `{}.{}.vw_generate_duplicates` \"\"\".format(project_id, dataset)\n",
        "\n",
        "query_job = client.query(query_dedup)\n",
        "query_dedup = pd.read_gbq(query_dedup, project_id)\n",
        "results_query_dedup = query_job.result()"
      ],
      "metadata": {
        "id": "IXl4HRSlR1Am"
      },
      "execution_count": null,
      "outputs": []
    },
    {
      "cell_type": "markdown",
      "source": [
        "### **Updating Manual Dedup Sheet**"
      ],
      "metadata": {
        "id": "8BuxJiiKNsHC"
      }
    },
    {
      "cell_type": "code",
      "source": [
        "## Checking if dedup sheet is ready for update\n",
        "\n",
        "dedup_ready = input(\"Have you cleared the 25_sari_latest Google Sheet (Y/N): \")\n",
        "\n",
        "while dedup_ready != \"Y\" and dedup_ready != \"N\":\n",
        "  dedup_ready = input(\"Have you cleared the 25_sari_latest Google Sheet (Y/N): \")\n",
        "else:\n",
        "  if dedup_ready == \"Y\":\n",
        "    print(\"\\nProceeding with the updating of manual dedup sheet.\")\n",
        "  else:\n",
        "    raise Exception(\"Please go to: https://docs.google.com/spreadsheets/d/1GZrM54aUfcNbz6mtM9cyCa_BT_0WSnOL2pFcYt4fai8/edit#gid=0. \\nClear all the contents of manual_dedup sheet!! Run the next cell once done.\")"
      ],
      "metadata": {
        "colab": {
          "base_uri": "https://localhost:8080/"
        },
        "id": "R6-S-j3MNq96",
        "outputId": "37fb3ba7-6230-4a58-89cb-bfeebde356a8"
      },
      "execution_count": null,
      "outputs": [
        {
          "output_type": "stream",
          "name": "stdout",
          "text": [
            "Have you cleared the 25_sari_latest Google Sheet (Y/N): Y\n",
            "\n",
            "Proceeding with the updating of manual dedup sheet.\n"
          ]
        }
      ]
    },
    {
      "cell_type": "code",
      "source": [
        "import pandas as pd\n",
        "import json\n",
        "import numpy as np\n",
        "\n",
        "# Define date field columns\n",
        "date_columns = ['birth_date', 'report_date', 'consult_date', 'onset_date', 'proxy_onset_date', 'travel_date', 'arrival_date', 'exposure_date',\n",
        "                 'admitted_date', 'discharged_date', 'icu_date', 'chestxray_result_date', 'date_specimen_collected', 'date_specimen_received',\n",
        "                  'date_lab_result', 'vax_date', 'died_date']\n",
        "\n",
        "# Define float64 field column\n",
        "float_columns = ['age']\n",
        "\n",
        "# Convert date columns to datetime\n",
        "for col in date_columns:\n",
        "    query_dedup[col] = pd.to_datetime(query_dedup[col], errors='coerce')\n",
        "\n",
        "# Convert float columns to numeric\n",
        "for col in float_columns:\n",
        "    query_dedup[col] = pd.to_numeric(query_dedup[col], errors='coerce')\n",
        "\n",
        "# Handle out-of-range float values with a custom function\n",
        "def handle_float_values(value):\n",
        "    if pd.notna(value) and not np.isfinite(value):\n",
        "        return None\n",
        "    return value\n",
        "\n",
        "# Apply the custom function to all float columns\n",
        "query_dedup[float_columns] = query_dedup[float_columns].applymap(handle_float_values)\n",
        "\n",
        "# Convert Timestamp objects to string format during the apply step\n",
        "query_dedup[date_columns] = query_dedup[date_columns].apply(lambda x: x.dt.strftime('%Y-%m-%d') if x.name in date_columns else x)\n",
        "\n",
        "# Replace nan values with null for the entire DataFrame\n",
        "query_dedup.replace({np.nan: None}, inplace=True)\n",
        "\n",
        "# Convert DataFrame to a list of dictionaries\n",
        "data_list = query_dedup.to_dict(orient='records')\n",
        "\n",
        "# # Convert None values to null in the list of dictionaries during JSON conversion\n",
        "# json_string = json.dumps(data_list, default=str, indent=2, allow_nan=False)\n",
        "\n",
        "# Convert the DataFrame to a list of lists\n",
        "rows = query_dedup.values.tolist()\n",
        "\n",
        "# Update the worksheet starting from cell A2\n",
        "worksheet.update('A2', rows)"
      ],
      "metadata": {
        "id": "vWdE_FS1R7rX",
        "colab": {
          "base_uri": "https://localhost:8080/"
        },
        "outputId": "c1a30da3-16be-4a30-8b06-e4b94c781bce"
      },
      "execution_count": null,
      "outputs": [
        {
          "output_type": "stream",
          "name": "stderr",
          "text": [
            "<ipython-input-14-8a4cbc936670>:46: DeprecationWarning: The order of arguments in worksheet.update() has changed. Please pass values first and range_name secondor used named arguments (range_name=, values=)\n",
            "  worksheet.update('A2', rows)\n"
          ]
        },
        {
          "output_type": "execute_result",
          "data": {
            "text/plain": [
              "{'spreadsheetId': '1GZrM54aUfcNbz6mtM9cyCa_BT_0WSnOL2pFcYt4fai8',\n",
              " 'updatedRange': 'manual_dedup!A2:DS441',\n",
              " 'updatedRows': 440,\n",
              " 'updatedColumns': 112,\n",
              " 'updatedCells': 33271}"
            ]
          },
          "metadata": {},
          "execution_count": 14
        }
      ]
    },
    {
      "cell_type": "markdown",
      "source": [
        "### **Initial Duplicate Checker**"
      ],
      "metadata": {
        "id": "Jotdbg12G37A"
      }
    },
    {
      "cell_type": "code",
      "source": [
        "query_checks = \"\"\" SELECT * FROM `{}.{}.vw_duplicate_checker_v1` \"\"\".format(project_id, dataset)\n",
        "\n",
        "query_job = client.query(query_checks)\n",
        "query_checks = pd.read_gbq(query_checks, project_id)\n",
        "results_query_checks = query_job.result()\n",
        "\n",
        "query_checks"
      ],
      "metadata": {
        "colab": {
          "base_uri": "https://localhost:8080/",
          "height": 89
        },
        "id": "vVZ84qyIG1Az",
        "outputId": "25a08594-8d13-4fe3-896d-cf9c55ecfa72"
      },
      "execution_count": null,
      "outputs": [
        {
          "output_type": "execute_result",
          "data": {
            "text/plain": [
              "Empty DataFrame\n",
              "Columns: [n_key, fname, case_id, birth_date, proxy_onset_date, lab_result, region]\n",
              "Index: []"
            ],
            "text/html": [
              "\n",
              "  <div id=\"df-1e49051b-bd97-4268-a761-f1f3b6579585\" class=\"colab-df-container\">\n",
              "    <div>\n",
              "<style scoped>\n",
              "    .dataframe tbody tr th:only-of-type {\n",
              "        vertical-align: middle;\n",
              "    }\n",
              "\n",
              "    .dataframe tbody tr th {\n",
              "        vertical-align: top;\n",
              "    }\n",
              "\n",
              "    .dataframe thead th {\n",
              "        text-align: right;\n",
              "    }\n",
              "</style>\n",
              "<table border=\"1\" class=\"dataframe\">\n",
              "  <thead>\n",
              "    <tr style=\"text-align: right;\">\n",
              "      <th></th>\n",
              "      <th>n_key</th>\n",
              "      <th>fname</th>\n",
              "      <th>case_id</th>\n",
              "      <th>birth_date</th>\n",
              "      <th>proxy_onset_date</th>\n",
              "      <th>lab_result</th>\n",
              "      <th>region</th>\n",
              "    </tr>\n",
              "  </thead>\n",
              "  <tbody>\n",
              "  </tbody>\n",
              "</table>\n",
              "</div>\n",
              "    <div class=\"colab-df-buttons\">\n",
              "\n",
              "  <div class=\"colab-df-container\">\n",
              "    <button class=\"colab-df-convert\" onclick=\"convertToInteractive('df-1e49051b-bd97-4268-a761-f1f3b6579585')\"\n",
              "            title=\"Convert this dataframe to an interactive table.\"\n",
              "            style=\"display:none;\">\n",
              "\n",
              "  <svg xmlns=\"http://www.w3.org/2000/svg\" height=\"24px\" viewBox=\"0 -960 960 960\">\n",
              "    <path d=\"M120-120v-720h720v720H120Zm60-500h600v-160H180v160Zm220 220h160v-160H400v160Zm0 220h160v-160H400v160ZM180-400h160v-160H180v160Zm440 0h160v-160H620v160ZM180-180h160v-160H180v160Zm440 0h160v-160H620v160Z\"/>\n",
              "  </svg>\n",
              "    </button>\n",
              "\n",
              "  <style>\n",
              "    .colab-df-container {\n",
              "      display:flex;\n",
              "      gap: 12px;\n",
              "    }\n",
              "\n",
              "    .colab-df-convert {\n",
              "      background-color: #E8F0FE;\n",
              "      border: none;\n",
              "      border-radius: 50%;\n",
              "      cursor: pointer;\n",
              "      display: none;\n",
              "      fill: #1967D2;\n",
              "      height: 32px;\n",
              "      padding: 0 0 0 0;\n",
              "      width: 32px;\n",
              "    }\n",
              "\n",
              "    .colab-df-convert:hover {\n",
              "      background-color: #E2EBFA;\n",
              "      box-shadow: 0px 1px 2px rgba(60, 64, 67, 0.3), 0px 1px 3px 1px rgba(60, 64, 67, 0.15);\n",
              "      fill: #174EA6;\n",
              "    }\n",
              "\n",
              "    .colab-df-buttons div {\n",
              "      margin-bottom: 4px;\n",
              "    }\n",
              "\n",
              "    [theme=dark] .colab-df-convert {\n",
              "      background-color: #3B4455;\n",
              "      fill: #D2E3FC;\n",
              "    }\n",
              "\n",
              "    [theme=dark] .colab-df-convert:hover {\n",
              "      background-color: #434B5C;\n",
              "      box-shadow: 0px 1px 3px 1px rgba(0, 0, 0, 0.15);\n",
              "      filter: drop-shadow(0px 1px 2px rgba(0, 0, 0, 0.3));\n",
              "      fill: #FFFFFF;\n",
              "    }\n",
              "  </style>\n",
              "\n",
              "    <script>\n",
              "      const buttonEl =\n",
              "        document.querySelector('#df-1e49051b-bd97-4268-a761-f1f3b6579585 button.colab-df-convert');\n",
              "      buttonEl.style.display =\n",
              "        google.colab.kernel.accessAllowed ? 'block' : 'none';\n",
              "\n",
              "      async function convertToInteractive(key) {\n",
              "        const element = document.querySelector('#df-1e49051b-bd97-4268-a761-f1f3b6579585');\n",
              "        const dataTable =\n",
              "          await google.colab.kernel.invokeFunction('convertToInteractive',\n",
              "                                                    [key], {});\n",
              "        if (!dataTable) return;\n",
              "\n",
              "        const docLinkHtml = 'Like what you see? Visit the ' +\n",
              "          '<a target=\"_blank\" href=https://colab.research.google.com/notebooks/data_table.ipynb>data table notebook</a>'\n",
              "          + ' to learn more about interactive tables.';\n",
              "        element.innerHTML = '';\n",
              "        dataTable['output_type'] = 'display_data';\n",
              "        await google.colab.output.renderOutput(dataTable, element);\n",
              "        const docLink = document.createElement('div');\n",
              "        docLink.innerHTML = docLinkHtml;\n",
              "        element.appendChild(docLink);\n",
              "      }\n",
              "    </script>\n",
              "  </div>\n",
              "\n",
              "\n",
              "  <div id=\"id_a9acb71e-f9a9-4609-9005-dc2e8f955fcb\">\n",
              "    <style>\n",
              "      .colab-df-generate {\n",
              "        background-color: #E8F0FE;\n",
              "        border: none;\n",
              "        border-radius: 50%;\n",
              "        cursor: pointer;\n",
              "        display: none;\n",
              "        fill: #1967D2;\n",
              "        height: 32px;\n",
              "        padding: 0 0 0 0;\n",
              "        width: 32px;\n",
              "      }\n",
              "\n",
              "      .colab-df-generate:hover {\n",
              "        background-color: #E2EBFA;\n",
              "        box-shadow: 0px 1px 2px rgba(60, 64, 67, 0.3), 0px 1px 3px 1px rgba(60, 64, 67, 0.15);\n",
              "        fill: #174EA6;\n",
              "      }\n",
              "\n",
              "      [theme=dark] .colab-df-generate {\n",
              "        background-color: #3B4455;\n",
              "        fill: #D2E3FC;\n",
              "      }\n",
              "\n",
              "      [theme=dark] .colab-df-generate:hover {\n",
              "        background-color: #434B5C;\n",
              "        box-shadow: 0px 1px 3px 1px rgba(0, 0, 0, 0.15);\n",
              "        filter: drop-shadow(0px 1px 2px rgba(0, 0, 0, 0.3));\n",
              "        fill: #FFFFFF;\n",
              "      }\n",
              "    </style>\n",
              "    <button class=\"colab-df-generate\" onclick=\"generateWithVariable('query_checks')\"\n",
              "            title=\"Generate code using this dataframe.\"\n",
              "            style=\"display:none;\">\n",
              "\n",
              "  <svg xmlns=\"http://www.w3.org/2000/svg\" height=\"24px\"viewBox=\"0 0 24 24\"\n",
              "       width=\"24px\">\n",
              "    <path d=\"M7,19H8.4L18.45,9,17,7.55,7,17.6ZM5,21V16.75L18.45,3.32a2,2,0,0,1,2.83,0l1.4,1.43a1.91,1.91,0,0,1,.58,1.4,1.91,1.91,0,0,1-.58,1.4L9.25,21ZM18.45,9,17,7.55Zm-12,3A5.31,5.31,0,0,0,4.9,8.1,5.31,5.31,0,0,0,1,6.5,5.31,5.31,0,0,0,4.9,4.9,5.31,5.31,0,0,0,6.5,1,5.31,5.31,0,0,0,8.1,4.9,5.31,5.31,0,0,0,12,6.5,5.46,5.46,0,0,0,6.5,12Z\"/>\n",
              "  </svg>\n",
              "    </button>\n",
              "    <script>\n",
              "      (() => {\n",
              "      const buttonEl =\n",
              "        document.querySelector('#id_a9acb71e-f9a9-4609-9005-dc2e8f955fcb button.colab-df-generate');\n",
              "      buttonEl.style.display =\n",
              "        google.colab.kernel.accessAllowed ? 'block' : 'none';\n",
              "\n",
              "      buttonEl.onclick = () => {\n",
              "        google.colab.notebook.generateWithVariable('query_checks');\n",
              "      }\n",
              "      })();\n",
              "    </script>\n",
              "  </div>\n",
              "\n",
              "    </div>\n",
              "  </div>\n"
            ],
            "application/vnd.google.colaboratory.intrinsic+json": {
              "type": "dataframe",
              "variable_name": "query_checks",
              "repr_error": "Out of range float values are not JSON compliant: nan"
            }
          },
          "metadata": {},
          "execution_count": 17
        }
      ]
    },
    {
      "cell_type": "code",
      "source": [
        "# Checking if there are weird cases to be dropped\n",
        "\n",
        "query_manual_dedup = \"\"\"\n",
        "    SELECT\n",
        "      IF(CAST(to_delete AS STRING) = \"1\", \"for dropping\", \"retain\") to_delete,\n",
        "      IF(case_id IS NOT NULL, \"with caseid\", \"no caseid\") caseid_tag,\n",
        "      is_new,\n",
        "      COUNT(1) count\n",
        "    FROM `sari_source.25_sari_latest`\n",
        "    GROUP BY 1, 2, 3\n",
        "    ORDER BY 1, 2, 3\n",
        "\"\"\"\n",
        "\n",
        "df_manual_drop = gbq.read_gbq(query_manual_dedup, project_id = project_id, credentials = bq_credentials)\n",
        "# print(\"Check if the following is correct. No is_new = \"\"N\"\" should be dropped.\")\n",
        "print(df_manual_drop)"
      ],
      "metadata": {
        "colab": {
          "base_uri": "https://localhost:8080/"
        },
        "id": "3_LHYvhHLA3c",
        "outputId": "ff2fe2a7-c846-4eb1-8d75-c0654c241b06"
      },
      "execution_count": null,
      "outputs": [
        {
          "output_type": "stream",
          "name": "stdout",
          "text": [
            "Downloading: 100%|\u001b[32m██████████\u001b[0m|\n",
            "      to_delete   caseid_tag  is_new  count\n",
            "0  for dropping    no caseid    True    217\n",
            "1  for dropping  with caseid   False      3\n",
            "2        retain  with caseid   False    220\n"
          ]
        }
      ]
    },
    {
      "cell_type": "markdown",
      "source": [
        "## **Generating Cleaned Line List**"
      ],
      "metadata": {
        "id": "ZjJM4zakKmlL"
      }
    },
    {
      "cell_type": "markdown",
      "source": [
        "### **Materialize final cleaned linelist** - Weekly date-shard and latest tables"
      ],
      "metadata": {
        "id": "PN_l_odrsQqr"
      }
    },
    {
      "cell_type": "code",
      "source": [
        "query = \"\"\"CALL `{}.{}.sp_generate_clean_table`()\"\"\".format(project_id, dataset)\n",
        "\n",
        "job = client.query(query)\n",
        "job.result()\n",
        "\n",
        "tablename = \"sari_source.30_sari_\" + current_week_friday_line_list\n",
        "tablename_latest = \"sari_source.30_sari_weekly_latest\"\n",
        "\n",
        "query_clean = \"\"\" SELECT * FROM `{}.{}.30_sari_weekly_latest\"` WHERE proxy_onset_date <= \"{}\" \"\"\".format(project_id, dataset,last_week_saturday_str)\n",
        "\n",
        "for table in [tablename, tablename_latest]:\n",
        "  job_config = bigquery.QueryJobConfig(destination=f\"{project_id}.{table}\")\n",
        "  job_config.write_disposition = \"WRITE_TRUNCATE\"\n",
        "  job = client.query(query_clean, job_config=job_config)\n",
        "  job.result()\n",
        "  print(f'Successfully materialized: {table}')"
      ],
      "metadata": {
        "id": "p2aeag7t2sbF"
      },
      "execution_count": null,
      "outputs": []
    },
    {
      "cell_type": "markdown",
      "source": [
        "### **Final Duplicate Checker**"
      ],
      "metadata": {
        "id": "uyTZScoNRlma"
      }
    },
    {
      "cell_type": "code",
      "source": [
        "query_checks = \"\"\" SELECT * FROM `{}.{}.vw_duplicate_checker_v2` \"\"\".format(project_id, dataset)\n",
        "\n",
        "query_job = client.query(query_checks)\n",
        "query_checks = pd.read_gbq(query_checks, project_id)\n",
        "results_query_checks = query_job.result()\n",
        "\n",
        "query_checks"
      ],
      "metadata": {
        "colab": {
          "base_uri": "https://localhost:8080/",
          "height": 362
        },
        "id": "ZhKPIrBvRiI8",
        "outputId": "dc509a4a-f6fd-4652-b77f-1bf973fa34d0"
      },
      "execution_count": null,
      "outputs": [
        {
          "output_type": "execute_result",
          "data": {
            "text/plain": [
              "                   n_key                     fname                case_id  \\\n",
              "0               LALMOHAN                 LAL MOHAN  SARI-PHL-2023-0009531   \n",
              "1               LALMOHAN                 MOHAN LAL  SARI-PHL-2023-0007596   \n",
              "2   CAS-INGLANGGOYANROEL    ROEL LANGGOYAN CAS-ING  SARI-PHL-2024-0007222   \n",
              "3   CAS-INGLANGGOYANROEL    LANGGOYAN ROEL CAS-ING  SARI-PHL-2024-0004815   \n",
              "4  ANGELAVILAJOEHANNASAN  JOEHANNA SAN ANGEL AVILA  SARI-PHL-2024-0006821   \n",
              "5  ANGELAVILAJOEHANNASAN  JOEHANNA SAN ANGEL AVILA  SARI-PHL-2024-0006146   \n",
              "6  LAXAMANARONALDOSIENES   SIENES RONALDO LAXAMANA  SARI-PHL-2023-0006394   \n",
              "7  LAXAMANARONALDOSIENES   RONALDO LAXAMANA SIENES  SARI-PHL-2023-0006244   \n",
              "8      BUCLAOJANINESUYAM       JANINE SUYAM BUCLAO  SARI-PHL-2023-0003200   \n",
              "9      BUCLAOJANINESUYAM       JANINE BUCLAO SUYAM  SARI-PHL-2023-0001259   \n",
              "\n",
              "   birth_date proxy_onset_date lab_result region  \n",
              "0  1950-01-01       2023-09-29    UNKNOWN     03  \n",
              "1  1950-01-01       2023-09-29   NEGATIVE     03  \n",
              "2  1990-11-21       2024-05-02   NEGATIVE    CAR  \n",
              "3  1990-11-21       2024-05-02       None    CAR  \n",
              "4  2023-11-15       2024-05-23   NEGATIVE    CAR  \n",
              "5  2024-03-04       2024-05-28    PENDING    CAR  \n",
              "6  1974-07-12       2023-10-06    UNKNOWN    CAR  \n",
              "7  1974-07-12       2023-10-06   POSITIVE    CAR  \n",
              "8  2015-07-18       2023-08-16   NEGATIVE    CAR  \n",
              "9  2015-07-18       2023-08-16   NEGATIVE    CAR  "
            ],
            "text/html": [
              "\n",
              "  <div id=\"df-5b6ebc4d-32cc-4e0a-a7ad-bc3821368ed3\" class=\"colab-df-container\">\n",
              "    <div>\n",
              "<style scoped>\n",
              "    .dataframe tbody tr th:only-of-type {\n",
              "        vertical-align: middle;\n",
              "    }\n",
              "\n",
              "    .dataframe tbody tr th {\n",
              "        vertical-align: top;\n",
              "    }\n",
              "\n",
              "    .dataframe thead th {\n",
              "        text-align: right;\n",
              "    }\n",
              "</style>\n",
              "<table border=\"1\" class=\"dataframe\">\n",
              "  <thead>\n",
              "    <tr style=\"text-align: right;\">\n",
              "      <th></th>\n",
              "      <th>n_key</th>\n",
              "      <th>fname</th>\n",
              "      <th>case_id</th>\n",
              "      <th>birth_date</th>\n",
              "      <th>proxy_onset_date</th>\n",
              "      <th>lab_result</th>\n",
              "      <th>region</th>\n",
              "    </tr>\n",
              "  </thead>\n",
              "  <tbody>\n",
              "    <tr>\n",
              "      <th>0</th>\n",
              "      <td>LALMOHAN</td>\n",
              "      <td>LAL MOHAN</td>\n",
              "      <td>SARI-PHL-2023-0009531</td>\n",
              "      <td>1950-01-01</td>\n",
              "      <td>2023-09-29</td>\n",
              "      <td>UNKNOWN</td>\n",
              "      <td>03</td>\n",
              "    </tr>\n",
              "    <tr>\n",
              "      <th>1</th>\n",
              "      <td>LALMOHAN</td>\n",
              "      <td>MOHAN LAL</td>\n",
              "      <td>SARI-PHL-2023-0007596</td>\n",
              "      <td>1950-01-01</td>\n",
              "      <td>2023-09-29</td>\n",
              "      <td>NEGATIVE</td>\n",
              "      <td>03</td>\n",
              "    </tr>\n",
              "    <tr>\n",
              "      <th>2</th>\n",
              "      <td>CAS-INGLANGGOYANROEL</td>\n",
              "      <td>ROEL LANGGOYAN CAS-ING</td>\n",
              "      <td>SARI-PHL-2024-0007222</td>\n",
              "      <td>1990-11-21</td>\n",
              "      <td>2024-05-02</td>\n",
              "      <td>NEGATIVE</td>\n",
              "      <td>CAR</td>\n",
              "    </tr>\n",
              "    <tr>\n",
              "      <th>3</th>\n",
              "      <td>CAS-INGLANGGOYANROEL</td>\n",
              "      <td>LANGGOYAN ROEL CAS-ING</td>\n",
              "      <td>SARI-PHL-2024-0004815</td>\n",
              "      <td>1990-11-21</td>\n",
              "      <td>2024-05-02</td>\n",
              "      <td>None</td>\n",
              "      <td>CAR</td>\n",
              "    </tr>\n",
              "    <tr>\n",
              "      <th>4</th>\n",
              "      <td>ANGELAVILAJOEHANNASAN</td>\n",
              "      <td>JOEHANNA SAN ANGEL AVILA</td>\n",
              "      <td>SARI-PHL-2024-0006821</td>\n",
              "      <td>2023-11-15</td>\n",
              "      <td>2024-05-23</td>\n",
              "      <td>NEGATIVE</td>\n",
              "      <td>CAR</td>\n",
              "    </tr>\n",
              "    <tr>\n",
              "      <th>5</th>\n",
              "      <td>ANGELAVILAJOEHANNASAN</td>\n",
              "      <td>JOEHANNA SAN ANGEL AVILA</td>\n",
              "      <td>SARI-PHL-2024-0006146</td>\n",
              "      <td>2024-03-04</td>\n",
              "      <td>2024-05-28</td>\n",
              "      <td>PENDING</td>\n",
              "      <td>CAR</td>\n",
              "    </tr>\n",
              "    <tr>\n",
              "      <th>6</th>\n",
              "      <td>LAXAMANARONALDOSIENES</td>\n",
              "      <td>SIENES RONALDO LAXAMANA</td>\n",
              "      <td>SARI-PHL-2023-0006394</td>\n",
              "      <td>1974-07-12</td>\n",
              "      <td>2023-10-06</td>\n",
              "      <td>UNKNOWN</td>\n",
              "      <td>CAR</td>\n",
              "    </tr>\n",
              "    <tr>\n",
              "      <th>7</th>\n",
              "      <td>LAXAMANARONALDOSIENES</td>\n",
              "      <td>RONALDO LAXAMANA SIENES</td>\n",
              "      <td>SARI-PHL-2023-0006244</td>\n",
              "      <td>1974-07-12</td>\n",
              "      <td>2023-10-06</td>\n",
              "      <td>POSITIVE</td>\n",
              "      <td>CAR</td>\n",
              "    </tr>\n",
              "    <tr>\n",
              "      <th>8</th>\n",
              "      <td>BUCLAOJANINESUYAM</td>\n",
              "      <td>JANINE SUYAM BUCLAO</td>\n",
              "      <td>SARI-PHL-2023-0003200</td>\n",
              "      <td>2015-07-18</td>\n",
              "      <td>2023-08-16</td>\n",
              "      <td>NEGATIVE</td>\n",
              "      <td>CAR</td>\n",
              "    </tr>\n",
              "    <tr>\n",
              "      <th>9</th>\n",
              "      <td>BUCLAOJANINESUYAM</td>\n",
              "      <td>JANINE BUCLAO SUYAM</td>\n",
              "      <td>SARI-PHL-2023-0001259</td>\n",
              "      <td>2015-07-18</td>\n",
              "      <td>2023-08-16</td>\n",
              "      <td>NEGATIVE</td>\n",
              "      <td>CAR</td>\n",
              "    </tr>\n",
              "  </tbody>\n",
              "</table>\n",
              "</div>\n",
              "    <div class=\"colab-df-buttons\">\n",
              "\n",
              "  <div class=\"colab-df-container\">\n",
              "    <button class=\"colab-df-convert\" onclick=\"convertToInteractive('df-5b6ebc4d-32cc-4e0a-a7ad-bc3821368ed3')\"\n",
              "            title=\"Convert this dataframe to an interactive table.\"\n",
              "            style=\"display:none;\">\n",
              "\n",
              "  <svg xmlns=\"http://www.w3.org/2000/svg\" height=\"24px\" viewBox=\"0 -960 960 960\">\n",
              "    <path d=\"M120-120v-720h720v720H120Zm60-500h600v-160H180v160Zm220 220h160v-160H400v160Zm0 220h160v-160H400v160ZM180-400h160v-160H180v160Zm440 0h160v-160H620v160ZM180-180h160v-160H180v160Zm440 0h160v-160H620v160Z\"/>\n",
              "  </svg>\n",
              "    </button>\n",
              "\n",
              "  <style>\n",
              "    .colab-df-container {\n",
              "      display:flex;\n",
              "      gap: 12px;\n",
              "    }\n",
              "\n",
              "    .colab-df-convert {\n",
              "      background-color: #E8F0FE;\n",
              "      border: none;\n",
              "      border-radius: 50%;\n",
              "      cursor: pointer;\n",
              "      display: none;\n",
              "      fill: #1967D2;\n",
              "      height: 32px;\n",
              "      padding: 0 0 0 0;\n",
              "      width: 32px;\n",
              "    }\n",
              "\n",
              "    .colab-df-convert:hover {\n",
              "      background-color: #E2EBFA;\n",
              "      box-shadow: 0px 1px 2px rgba(60, 64, 67, 0.3), 0px 1px 3px 1px rgba(60, 64, 67, 0.15);\n",
              "      fill: #174EA6;\n",
              "    }\n",
              "\n",
              "    .colab-df-buttons div {\n",
              "      margin-bottom: 4px;\n",
              "    }\n",
              "\n",
              "    [theme=dark] .colab-df-convert {\n",
              "      background-color: #3B4455;\n",
              "      fill: #D2E3FC;\n",
              "    }\n",
              "\n",
              "    [theme=dark] .colab-df-convert:hover {\n",
              "      background-color: #434B5C;\n",
              "      box-shadow: 0px 1px 3px 1px rgba(0, 0, 0, 0.15);\n",
              "      filter: drop-shadow(0px 1px 2px rgba(0, 0, 0, 0.3));\n",
              "      fill: #FFFFFF;\n",
              "    }\n",
              "  </style>\n",
              "\n",
              "    <script>\n",
              "      const buttonEl =\n",
              "        document.querySelector('#df-5b6ebc4d-32cc-4e0a-a7ad-bc3821368ed3 button.colab-df-convert');\n",
              "      buttonEl.style.display =\n",
              "        google.colab.kernel.accessAllowed ? 'block' : 'none';\n",
              "\n",
              "      async function convertToInteractive(key) {\n",
              "        const element = document.querySelector('#df-5b6ebc4d-32cc-4e0a-a7ad-bc3821368ed3');\n",
              "        const dataTable =\n",
              "          await google.colab.kernel.invokeFunction('convertToInteractive',\n",
              "                                                    [key], {});\n",
              "        if (!dataTable) return;\n",
              "\n",
              "        const docLinkHtml = 'Like what you see? Visit the ' +\n",
              "          '<a target=\"_blank\" href=https://colab.research.google.com/notebooks/data_table.ipynb>data table notebook</a>'\n",
              "          + ' to learn more about interactive tables.';\n",
              "        element.innerHTML = '';\n",
              "        dataTable['output_type'] = 'display_data';\n",
              "        await google.colab.output.renderOutput(dataTable, element);\n",
              "        const docLink = document.createElement('div');\n",
              "        docLink.innerHTML = docLinkHtml;\n",
              "        element.appendChild(docLink);\n",
              "      }\n",
              "    </script>\n",
              "  </div>\n",
              "\n",
              "\n",
              "<div id=\"df-0ba0e22b-3a21-4798-a160-0eebbc4160db\">\n",
              "  <button class=\"colab-df-quickchart\" onclick=\"quickchart('df-0ba0e22b-3a21-4798-a160-0eebbc4160db')\"\n",
              "            title=\"Suggest charts\"\n",
              "            style=\"display:none;\">\n",
              "\n",
              "<svg xmlns=\"http://www.w3.org/2000/svg\" height=\"24px\"viewBox=\"0 0 24 24\"\n",
              "     width=\"24px\">\n",
              "    <g>\n",
              "        <path d=\"M19 3H5c-1.1 0-2 .9-2 2v14c0 1.1.9 2 2 2h14c1.1 0 2-.9 2-2V5c0-1.1-.9-2-2-2zM9 17H7v-7h2v7zm4 0h-2V7h2v10zm4 0h-2v-4h2v4z\"/>\n",
              "    </g>\n",
              "</svg>\n",
              "  </button>\n",
              "\n",
              "<style>\n",
              "  .colab-df-quickchart {\n",
              "      --bg-color: #E8F0FE;\n",
              "      --fill-color: #1967D2;\n",
              "      --hover-bg-color: #E2EBFA;\n",
              "      --hover-fill-color: #174EA6;\n",
              "      --disabled-fill-color: #AAA;\n",
              "      --disabled-bg-color: #DDD;\n",
              "  }\n",
              "\n",
              "  [theme=dark] .colab-df-quickchart {\n",
              "      --bg-color: #3B4455;\n",
              "      --fill-color: #D2E3FC;\n",
              "      --hover-bg-color: #434B5C;\n",
              "      --hover-fill-color: #FFFFFF;\n",
              "      --disabled-bg-color: #3B4455;\n",
              "      --disabled-fill-color: #666;\n",
              "  }\n",
              "\n",
              "  .colab-df-quickchart {\n",
              "    background-color: var(--bg-color);\n",
              "    border: none;\n",
              "    border-radius: 50%;\n",
              "    cursor: pointer;\n",
              "    display: none;\n",
              "    fill: var(--fill-color);\n",
              "    height: 32px;\n",
              "    padding: 0;\n",
              "    width: 32px;\n",
              "  }\n",
              "\n",
              "  .colab-df-quickchart:hover {\n",
              "    background-color: var(--hover-bg-color);\n",
              "    box-shadow: 0 1px 2px rgba(60, 64, 67, 0.3), 0 1px 3px 1px rgba(60, 64, 67, 0.15);\n",
              "    fill: var(--button-hover-fill-color);\n",
              "  }\n",
              "\n",
              "  .colab-df-quickchart-complete:disabled,\n",
              "  .colab-df-quickchart-complete:disabled:hover {\n",
              "    background-color: var(--disabled-bg-color);\n",
              "    fill: var(--disabled-fill-color);\n",
              "    box-shadow: none;\n",
              "  }\n",
              "\n",
              "  .colab-df-spinner {\n",
              "    border: 2px solid var(--fill-color);\n",
              "    border-color: transparent;\n",
              "    border-bottom-color: var(--fill-color);\n",
              "    animation:\n",
              "      spin 1s steps(1) infinite;\n",
              "  }\n",
              "\n",
              "  @keyframes spin {\n",
              "    0% {\n",
              "      border-color: transparent;\n",
              "      border-bottom-color: var(--fill-color);\n",
              "      border-left-color: var(--fill-color);\n",
              "    }\n",
              "    20% {\n",
              "      border-color: transparent;\n",
              "      border-left-color: var(--fill-color);\n",
              "      border-top-color: var(--fill-color);\n",
              "    }\n",
              "    30% {\n",
              "      border-color: transparent;\n",
              "      border-left-color: var(--fill-color);\n",
              "      border-top-color: var(--fill-color);\n",
              "      border-right-color: var(--fill-color);\n",
              "    }\n",
              "    40% {\n",
              "      border-color: transparent;\n",
              "      border-right-color: var(--fill-color);\n",
              "      border-top-color: var(--fill-color);\n",
              "    }\n",
              "    60% {\n",
              "      border-color: transparent;\n",
              "      border-right-color: var(--fill-color);\n",
              "    }\n",
              "    80% {\n",
              "      border-color: transparent;\n",
              "      border-right-color: var(--fill-color);\n",
              "      border-bottom-color: var(--fill-color);\n",
              "    }\n",
              "    90% {\n",
              "      border-color: transparent;\n",
              "      border-bottom-color: var(--fill-color);\n",
              "    }\n",
              "  }\n",
              "</style>\n",
              "\n",
              "  <script>\n",
              "    async function quickchart(key) {\n",
              "      const quickchartButtonEl =\n",
              "        document.querySelector('#' + key + ' button');\n",
              "      quickchartButtonEl.disabled = true;  // To prevent multiple clicks.\n",
              "      quickchartButtonEl.classList.add('colab-df-spinner');\n",
              "      try {\n",
              "        const charts = await google.colab.kernel.invokeFunction(\n",
              "            'suggestCharts', [key], {});\n",
              "      } catch (error) {\n",
              "        console.error('Error during call to suggestCharts:', error);\n",
              "      }\n",
              "      quickchartButtonEl.classList.remove('colab-df-spinner');\n",
              "      quickchartButtonEl.classList.add('colab-df-quickchart-complete');\n",
              "    }\n",
              "    (() => {\n",
              "      let quickchartButtonEl =\n",
              "        document.querySelector('#df-0ba0e22b-3a21-4798-a160-0eebbc4160db button');\n",
              "      quickchartButtonEl.style.display =\n",
              "        google.colab.kernel.accessAllowed ? 'block' : 'none';\n",
              "    })();\n",
              "  </script>\n",
              "</div>\n",
              "\n",
              "  <div id=\"id_408bb607-975f-432e-8a61-ecb00a2fd5fe\">\n",
              "    <style>\n",
              "      .colab-df-generate {\n",
              "        background-color: #E8F0FE;\n",
              "        border: none;\n",
              "        border-radius: 50%;\n",
              "        cursor: pointer;\n",
              "        display: none;\n",
              "        fill: #1967D2;\n",
              "        height: 32px;\n",
              "        padding: 0 0 0 0;\n",
              "        width: 32px;\n",
              "      }\n",
              "\n",
              "      .colab-df-generate:hover {\n",
              "        background-color: #E2EBFA;\n",
              "        box-shadow: 0px 1px 2px rgba(60, 64, 67, 0.3), 0px 1px 3px 1px rgba(60, 64, 67, 0.15);\n",
              "        fill: #174EA6;\n",
              "      }\n",
              "\n",
              "      [theme=dark] .colab-df-generate {\n",
              "        background-color: #3B4455;\n",
              "        fill: #D2E3FC;\n",
              "      }\n",
              "\n",
              "      [theme=dark] .colab-df-generate:hover {\n",
              "        background-color: #434B5C;\n",
              "        box-shadow: 0px 1px 3px 1px rgba(0, 0, 0, 0.15);\n",
              "        filter: drop-shadow(0px 1px 2px rgba(0, 0, 0, 0.3));\n",
              "        fill: #FFFFFF;\n",
              "      }\n",
              "    </style>\n",
              "    <button class=\"colab-df-generate\" onclick=\"generateWithVariable('query_checks')\"\n",
              "            title=\"Generate code using this dataframe.\"\n",
              "            style=\"display:none;\">\n",
              "\n",
              "  <svg xmlns=\"http://www.w3.org/2000/svg\" height=\"24px\"viewBox=\"0 0 24 24\"\n",
              "       width=\"24px\">\n",
              "    <path d=\"M7,19H8.4L18.45,9,17,7.55,7,17.6ZM5,21V16.75L18.45,3.32a2,2,0,0,1,2.83,0l1.4,1.43a1.91,1.91,0,0,1,.58,1.4,1.91,1.91,0,0,1-.58,1.4L9.25,21ZM18.45,9,17,7.55Zm-12,3A5.31,5.31,0,0,0,4.9,8.1,5.31,5.31,0,0,0,1,6.5,5.31,5.31,0,0,0,4.9,4.9,5.31,5.31,0,0,0,6.5,1,5.31,5.31,0,0,0,8.1,4.9,5.31,5.31,0,0,0,12,6.5,5.46,5.46,0,0,0,6.5,12Z\"/>\n",
              "  </svg>\n",
              "    </button>\n",
              "    <script>\n",
              "      (() => {\n",
              "      const buttonEl =\n",
              "        document.querySelector('#id_408bb607-975f-432e-8a61-ecb00a2fd5fe button.colab-df-generate');\n",
              "      buttonEl.style.display =\n",
              "        google.colab.kernel.accessAllowed ? 'block' : 'none';\n",
              "\n",
              "      buttonEl.onclick = () => {\n",
              "        google.colab.notebook.generateWithVariable('query_checks');\n",
              "      }\n",
              "      })();\n",
              "    </script>\n",
              "  </div>\n",
              "\n",
              "    </div>\n",
              "  </div>\n"
            ],
            "application/vnd.google.colaboratory.intrinsic+json": {
              "type": "dataframe",
              "variable_name": "query_checks",
              "summary": "{\n  \"name\": \"query_checks\",\n  \"rows\": 10,\n  \"fields\": [\n    {\n      \"column\": \"n_key\",\n      \"properties\": {\n        \"dtype\": \"string\",\n        \"num_unique_values\": 5,\n        \"samples\": [\n          \"CAS-INGLANGGOYANROEL\",\n          \"BUCLAOJANINESUYAM\",\n          \"ANGELAVILAJOEHANNASAN\"\n        ],\n        \"semantic_type\": \"\",\n        \"description\": \"\"\n      }\n    },\n    {\n      \"column\": \"fname\",\n      \"properties\": {\n        \"dtype\": \"string\",\n        \"num_unique_values\": 9,\n        \"samples\": [\n          \"JANINE SUYAM BUCLAO\",\n          \"MOHAN LAL\",\n          \"SIENES RONALDO LAXAMANA\"\n        ],\n        \"semantic_type\": \"\",\n        \"description\": \"\"\n      }\n    },\n    {\n      \"column\": \"case_id\",\n      \"properties\": {\n        \"dtype\": \"string\",\n        \"num_unique_values\": 10,\n        \"samples\": [\n          \"SARI-PHL-2023-0003200\",\n          \"SARI-PHL-2023-0007596\",\n          \"SARI-PHL-2024-0006146\"\n        ],\n        \"semantic_type\": \"\",\n        \"description\": \"\"\n      }\n    },\n    {\n      \"column\": \"birth_date\",\n      \"properties\": {\n        \"dtype\": \"dbdate\",\n        \"num_unique_values\": 6,\n        \"samples\": [\n          \"1950-01-01\",\n          \"1990-11-21\",\n          \"2015-07-18\"\n        ],\n        \"semantic_type\": \"\",\n        \"description\": \"\"\n      }\n    },\n    {\n      \"column\": \"proxy_onset_date\",\n      \"properties\": {\n        \"dtype\": \"dbdate\",\n        \"num_unique_values\": 6,\n        \"samples\": [\n          \"2023-09-29\",\n          \"2024-05-02\",\n          \"2023-08-16\"\n        ],\n        \"semantic_type\": \"\",\n        \"description\": \"\"\n      }\n    },\n    {\n      \"column\": \"lab_result\",\n      \"properties\": {\n        \"dtype\": \"category\",\n        \"num_unique_values\": 4,\n        \"samples\": [\n          \"NEGATIVE\",\n          \"POSITIVE\",\n          \"UNKNOWN\"\n        ],\n        \"semantic_type\": \"\",\n        \"description\": \"\"\n      }\n    },\n    {\n      \"column\": \"region\",\n      \"properties\": {\n        \"dtype\": \"category\",\n        \"num_unique_values\": 2,\n        \"samples\": [\n          \"CAR\",\n          \"03\"\n        ],\n        \"semantic_type\": \"\",\n        \"description\": \"\"\n      }\n    }\n  ]\n}"
            }
          },
          "metadata": {},
          "execution_count": 19
        }
      ]
    },
    {
      "cell_type": "markdown",
      "source": [
        "### **Manual Dropping of Duplicates**"
      ],
      "metadata": {
        "id": "jR4Hz26_SxZk"
      }
    },
    {
      "cell_type": "markdown",
      "source": [
        "Input identified duplicates in this sheet using case_id: https://docs.google.com/spreadsheets/d/1ltx1zfpMP8yQ2lBkBGL3DaAmayjdGXdg2fbupIt_RVQ/edit?gid=0#gid=0"
      ],
      "metadata": {
        "id": "gDiixPVuC_Yl"
      }
    },
    {
      "cell_type": "code",
      "source": [
        "# Drop duplicates if necessary, uncomment this code if there were duplicates found from the above query!\n",
        "tablename_weekly = 'sari_source.30_sari_' + current_week_friday_line_list\n",
        "tablename_weekly_latest = 'sari_source.30_sari_weekly_latest'\n",
        "\n",
        "query_clean = \"\"\"\n",
        "  SELECT\n",
        "    retained.case_id AS case_id,\n",
        "    *EXCEPT(case_id)\n",
        "  FROM `sari_source.30_sari_weekly_latest` retained\n",
        "  LEFT JOIN `sari_source.31_sari_duplicate_dropping` dropped\n",
        "    USING(case_id)\n",
        "  WHERE dropped.case_id IS NULL\n",
        "\"\"\".format(project_id, dataset)\n",
        "\n",
        "for table in [tablename_weekly, tablename_weekly_latest]:\n",
        "  job_config = bigquery.QueryJobConfig(destination=f\"{project_id}.{table}\")\n",
        "  job_config.write_disposition = \"WRITE_TRUNCATE\"\n",
        "  job = client.query(query_clean, job_config=job_config)\n",
        "  job.result()\n",
        "  print(f'Successfully materialized: {table}')"
      ],
      "metadata": {
        "colab": {
          "base_uri": "https://localhost:8080/"
        },
        "id": "zH8M9pZ9R324",
        "outputId": "8b6c0fc9-daba-4b70-a39d-c06858209cdf"
      },
      "execution_count": null,
      "outputs": [
        {
          "output_type": "stream",
          "name": "stdout",
          "text": [
            "Successfully materialized: sari_source.30_sari_20240719\n",
            "Successfully materialized: sari_source.30_sari_weekly_latest\n"
          ]
        }
      ]
    },
    {
      "cell_type": "markdown",
      "source": [
        "### **Materialize remarks column**"
      ],
      "metadata": {
        "id": "w5SArZTGaaPJ"
      }
    },
    {
      "cell_type": "code",
      "source": [
        "tablename_weekly = 'sari_source.30_sari_' + current_week_friday_line_list\n",
        "tablename_weekly_latest = 'sari_source.30_sari_weekly_latest'\n",
        "\n",
        "query_clean = \"\"\" SELECT * FROM `{}.{}.vw_generate_remarks_column` \"\"\".format(project_id, dataset)\n",
        "\n",
        "for table in [tablename_weekly, tablename_weekly_latest]:\n",
        "  job_config = bigquery.QueryJobConfig(destination=f\"{project_id}.{table}\")\n",
        "  job_config.write_disposition = \"WRITE_TRUNCATE\"\n",
        "  job = client.query(query_clean, job_config=job_config)\n",
        "  job.result()\n",
        "  print(f'Successfully materialized: {table}')"
      ],
      "metadata": {
        "colab": {
          "base_uri": "https://localhost:8080/"
        },
        "id": "F8VA1Al4ahy1",
        "outputId": "455e2d24-bf97-48ac-d57a-e19f2ce061a5"
      },
      "execution_count": null,
      "outputs": [
        {
          "output_type": "stream",
          "name": "stdout",
          "text": [
            "Successfully materialized: sari_source.30_sari_20240719\n",
            "Successfully materialized: sari_source.30_sari_weekly_latest\n"
          ]
        }
      ]
    },
    {
      "cell_type": "markdown",
      "source": [
        "### **Materialize final cleaned linelist** - Previous 5 years + latest date-shard"
      ],
      "metadata": {
        "id": "I79vsmmiuBKD"
      }
    },
    {
      "cell_type": "code",
      "source": [
        "query = \"\"\"CALL `{}.{}.sp_generate_unioned_latest`()\"\"\".format(project_id, dataset)\n",
        "\n",
        "job = client.query(query)\n",
        "job.result()"
      ],
      "metadata": {
        "id": "2xvbr1SpsM-Q",
        "colab": {
          "base_uri": "https://localhost:8080/"
        },
        "outputId": "3c75a41e-3ea7-4924-9c75-7e2a7bdf27d5"
      },
      "execution_count": null,
      "outputs": [
        {
          "output_type": "stream",
          "name": "stdout",
          "text": [
            "Successfully materialized: sari_source.30_sari_latest\n"
          ]
        }
      ]
    },
    {
      "cell_type": "markdown",
      "source": [
        "### **Perform Quality Checks**"
      ],
      "metadata": {
        "id": "ccUGClQ8JYeS"
      }
    },
    {
      "cell_type": "code",
      "source": [
        "# query final weekly\n",
        "query_final = \"\"\"\n",
        "    SELECT\n",
        "      COUNT(1) count\n",
        "    FROM `sari_source.30_sari_weekly_latest`\n",
        "\"\"\"\n",
        "\n",
        "query_final = gbq.read_gbq(query_final, project_id = project_id, credentials = bq_credentials)\n",
        "df_final = query_final\n",
        "\n",
        "# query previous week\n",
        "query_prev = \"\"\"\n",
        "    SELECT\n",
        "      COUNT(1) count\n",
        "    FROM `sari_source.30_sari_{}`\n",
        "\"\"\".format(last_friday_line_list)\n",
        "# .format(previous_linelist_date_tablename)\n",
        "\n",
        "query_prev = gbq.read_gbq(query_prev, project_id = project_id, credentials = bq_credentials)\n",
        "df_prev = query_prev\n",
        "\n",
        "# number of cases from 30_ili_weekly_latest\n",
        "final_count = df_final['count'].iloc[0]\n",
        "\n",
        "# number of cases from previous week\n",
        "prev_count = df_prev['count'].iloc[0]\n",
        "\n",
        "# number of cases from 20_ili_merged_latest\n",
        "tkc_edcs_new_count = df_merged['count'].iloc[0]\n",
        "\n",
        "# number of cases that were auto-dropped\n",
        "to_drop = df_auto_drop[\n",
        "    (df_auto_drop['auto_drop_tag'] == 'for dropping') &\n",
        "    (df_auto_drop['caseid_tag'] == 'no caseid') &\n",
        "    (df_auto_drop['is_new'] == 'Y')\n",
        "    ]\n",
        "to_drop_auto_count = to_drop['count'].sum()\n",
        "\n",
        "# number of cases that were auto-dropped\n",
        "to_drop_manual = df_manual_drop[df_manual_drop['to_delete'] == 'for dropping']\n",
        "to_drop_manual_count = to_drop_manual['count'].sum()\n",
        "\n",
        "if final_count != prev_count + tkc_edcs_new_count - to_drop_auto_count - to_drop_manual_count:\n",
        "  raise Exception(\"\\nCurrent row count is only at \"+ str(final_count) +\". \\nFinal row count must be \"+ str(prev_count + tkc_edcs_new_count - to_drop_auto_count - to_drop_manual_count) +\". Review discrepancy!\")\n",
        "else:\n",
        "  print(\"\\nChecks passed. Current row count matches expected!\")"
      ],
      "metadata": {
        "colab": {
          "base_uri": "https://localhost:8080/",
          "height": 581
        },
        "id": "A2A5lUvvJ5dC",
        "outputId": "57174c38-208b-453e-aff2-78b2e7396a07"
      },
      "execution_count": null,
      "outputs": [
        {
          "output_type": "stream",
          "name": "stdout",
          "text": [
            "Downloading: 100%|\u001b[32m██████████\u001b[0m|\n"
          ]
        },
        {
          "output_type": "error",
          "ename": "GenericGBQException",
          "evalue": "Reason: 404 Not found: Table doh-covid-dwh:sari_source.30_sari_20240712 was not found in location US; reason: notFound, message: Not found: Table doh-covid-dwh:sari_source.30_sari_20240712 was not found in location US\n\nLocation: US\nJob ID: 8b6ca06a-a61c-4bdd-ba73-f56c4bf9d773\n",
          "traceback": [
            "\u001b[0;31m---------------------------------------------------------------------------\u001b[0m",
            "\u001b[0;31mNotFound\u001b[0m                                  Traceback (most recent call last)",
            "\u001b[0;32m/usr/local/lib/python3.10/dist-packages/pandas_gbq/gbq.py\u001b[0m in \u001b[0;36mrun_query\u001b[0;34m(self, query, max_results, progress_bar_type, **kwargs)\u001b[0m\n\u001b[1;32m    526\u001b[0m         \u001b[0;32mtry\u001b[0m\u001b[0;34m:\u001b[0m\u001b[0;34m\u001b[0m\u001b[0;34m\u001b[0m\u001b[0m\n\u001b[0;32m--> 527\u001b[0;31m             \u001b[0mquery_reply\u001b[0m\u001b[0;34m.\u001b[0m\u001b[0mresult\u001b[0m\u001b[0;34m(\u001b[0m\u001b[0;34m)\u001b[0m\u001b[0;34m\u001b[0m\u001b[0;34m\u001b[0m\u001b[0m\n\u001b[0m\u001b[1;32m    528\u001b[0m         \u001b[0;32mexcept\u001b[0m \u001b[0mself\u001b[0m\u001b[0;34m.\u001b[0m\u001b[0mhttp_error\u001b[0m \u001b[0;32mas\u001b[0m \u001b[0mex\u001b[0m\u001b[0;34m:\u001b[0m\u001b[0;34m\u001b[0m\u001b[0;34m\u001b[0m\u001b[0m\n",
            "\u001b[0;32m/usr/local/lib/python3.10/dist-packages/google/cloud/bigquery/job/query.py\u001b[0m in \u001b[0;36mresult\u001b[0;34m(self, page_size, max_results, retry, timeout, start_index, job_retry)\u001b[0m\n\u001b[1;32m   1625\u001b[0m                 \u001b[0;31m# long-running API, don't delay the next request at all.\u001b[0m\u001b[0;34m\u001b[0m\u001b[0;34m\u001b[0m\u001b[0m\n\u001b[0;32m-> 1626\u001b[0;31m                 \u001b[0;32mwhile\u001b[0m \u001b[0;32mnot\u001b[0m \u001b[0mis_job_done\u001b[0m\u001b[0;34m(\u001b[0m\u001b[0;34m)\u001b[0m\u001b[0;34m:\u001b[0m\u001b[0;34m\u001b[0m\u001b[0;34m\u001b[0m\u001b[0m\n\u001b[0m\u001b[1;32m   1627\u001b[0m                     \u001b[0;32mpass\u001b[0m\u001b[0;34m\u001b[0m\u001b[0;34m\u001b[0m\u001b[0m\n",
            "\u001b[0;32m/usr/local/lib/python3.10/dist-packages/google/api_core/retry/retry_unary.py\u001b[0m in \u001b[0;36mretry_wrapped_func\u001b[0;34m(*args, **kwargs)\u001b[0m\n\u001b[1;32m    292\u001b[0m             )\n\u001b[0;32m--> 293\u001b[0;31m             return retry_target(\n\u001b[0m\u001b[1;32m    294\u001b[0m                 \u001b[0mtarget\u001b[0m\u001b[0;34m,\u001b[0m\u001b[0;34m\u001b[0m\u001b[0;34m\u001b[0m\u001b[0m\n",
            "\u001b[0;32m/usr/local/lib/python3.10/dist-packages/google/api_core/retry/retry_unary.py\u001b[0m in \u001b[0;36mretry_target\u001b[0;34m(target, predicate, sleep_generator, timeout, on_error, exception_factory, **kwargs)\u001b[0m\n\u001b[1;32m    152\u001b[0m             \u001b[0;31m# defer to shared logic for handling errors\u001b[0m\u001b[0;34m\u001b[0m\u001b[0;34m\u001b[0m\u001b[0m\n\u001b[0;32m--> 153\u001b[0;31m             _retry_error_helper(\n\u001b[0m\u001b[1;32m    154\u001b[0m                 \u001b[0mexc\u001b[0m\u001b[0;34m,\u001b[0m\u001b[0;34m\u001b[0m\u001b[0;34m\u001b[0m\u001b[0m\n",
            "\u001b[0;32m/usr/local/lib/python3.10/dist-packages/google/api_core/retry/retry_base.py\u001b[0m in \u001b[0;36m_retry_error_helper\u001b[0;34m(exc, deadline, next_sleep, error_list, predicate_fn, on_error_fn, exc_factory_fn, original_timeout)\u001b[0m\n\u001b[1;32m    211\u001b[0m         )\n\u001b[0;32m--> 212\u001b[0;31m         \u001b[0;32mraise\u001b[0m \u001b[0mfinal_exc\u001b[0m \u001b[0;32mfrom\u001b[0m \u001b[0msource_exc\u001b[0m\u001b[0;34m\u001b[0m\u001b[0;34m\u001b[0m\u001b[0m\n\u001b[0m\u001b[1;32m    213\u001b[0m     \u001b[0;32mif\u001b[0m \u001b[0mon_error_fn\u001b[0m \u001b[0;32mis\u001b[0m \u001b[0;32mnot\u001b[0m \u001b[0;32mNone\u001b[0m\u001b[0;34m:\u001b[0m\u001b[0;34m\u001b[0m\u001b[0;34m\u001b[0m\u001b[0m\n",
            "\u001b[0;32m/usr/local/lib/python3.10/dist-packages/google/api_core/retry/retry_unary.py\u001b[0m in \u001b[0;36mretry_target\u001b[0;34m(target, predicate, sleep_generator, timeout, on_error, exception_factory, **kwargs)\u001b[0m\n\u001b[1;32m    143\u001b[0m         \u001b[0;32mtry\u001b[0m\u001b[0;34m:\u001b[0m\u001b[0;34m\u001b[0m\u001b[0;34m\u001b[0m\u001b[0m\n\u001b[0;32m--> 144\u001b[0;31m             \u001b[0mresult\u001b[0m \u001b[0;34m=\u001b[0m \u001b[0mtarget\u001b[0m\u001b[0;34m(\u001b[0m\u001b[0;34m)\u001b[0m\u001b[0;34m\u001b[0m\u001b[0;34m\u001b[0m\u001b[0m\n\u001b[0m\u001b[1;32m    145\u001b[0m             \u001b[0;32mif\u001b[0m \u001b[0minspect\u001b[0m\u001b[0;34m.\u001b[0m\u001b[0misawaitable\u001b[0m\u001b[0;34m(\u001b[0m\u001b[0mresult\u001b[0m\u001b[0;34m)\u001b[0m\u001b[0;34m:\u001b[0m\u001b[0;34m\u001b[0m\u001b[0;34m\u001b[0m\u001b[0m\n",
            "\u001b[0;32m/usr/local/lib/python3.10/dist-packages/google/cloud/bigquery/job/query.py\u001b[0m in \u001b[0;36mis_job_done\u001b[0;34m()\u001b[0m\n\u001b[1;32m   1576\u001b[0m                         \u001b[0mrestart_query_job\u001b[0m \u001b[0;34m=\u001b[0m \u001b[0;32mTrue\u001b[0m\u001b[0;34m\u001b[0m\u001b[0;34m\u001b[0m\u001b[0m\n\u001b[0;32m-> 1577\u001b[0;31m                         \u001b[0;32mraise\u001b[0m \u001b[0mjob_failed_exception\u001b[0m\u001b[0;34m\u001b[0m\u001b[0;34m\u001b[0m\u001b[0m\n\u001b[0m\u001b[1;32m   1578\u001b[0m                     \u001b[0;32melse\u001b[0m\u001b[0;34m:\u001b[0m\u001b[0;34m\u001b[0m\u001b[0;34m\u001b[0m\u001b[0m\n",
            "\u001b[0;31mNotFound\u001b[0m: 404 Not found: Table doh-covid-dwh:sari_source.30_sari_20240712 was not found in location US; reason: notFound, message: Not found: Table doh-covid-dwh:sari_source.30_sari_20240712 was not found in location US\n\nLocation: US\nJob ID: 8b6ca06a-a61c-4bdd-ba73-f56c4bf9d773\n",
            "\nThe above exception was the direct cause of the following exception:\n",
            "\u001b[0;31mGenericGBQException\u001b[0m                       Traceback (most recent call last)",
            "\u001b[0;32m<ipython-input-24-a65adf0a440b>\u001b[0m in \u001b[0;36m<cell line: 19>\u001b[0;34m()\u001b[0m\n\u001b[1;32m     17\u001b[0m \u001b[0;31m# .format(previous_linelist_date_tablename)\u001b[0m\u001b[0;34m\u001b[0m\u001b[0;34m\u001b[0m\u001b[0m\n\u001b[1;32m     18\u001b[0m \u001b[0;34m\u001b[0m\u001b[0m\n\u001b[0;32m---> 19\u001b[0;31m \u001b[0mquery_prev\u001b[0m \u001b[0;34m=\u001b[0m \u001b[0mgbq\u001b[0m\u001b[0;34m.\u001b[0m\u001b[0mread_gbq\u001b[0m\u001b[0;34m(\u001b[0m\u001b[0mquery_prev\u001b[0m\u001b[0;34m,\u001b[0m \u001b[0mproject_id\u001b[0m \u001b[0;34m=\u001b[0m \u001b[0mproject_id\u001b[0m\u001b[0;34m,\u001b[0m \u001b[0mcredentials\u001b[0m \u001b[0;34m=\u001b[0m \u001b[0mbq_credentials\u001b[0m\u001b[0;34m)\u001b[0m\u001b[0;34m\u001b[0m\u001b[0;34m\u001b[0m\u001b[0m\n\u001b[0m\u001b[1;32m     20\u001b[0m \u001b[0mdf_prev\u001b[0m \u001b[0;34m=\u001b[0m \u001b[0mquery_prev\u001b[0m\u001b[0;34m\u001b[0m\u001b[0;34m\u001b[0m\u001b[0m\n\u001b[1;32m     21\u001b[0m \u001b[0;34m\u001b[0m\u001b[0m\n",
            "\u001b[0;32m/usr/local/lib/python3.10/dist-packages/pandas_gbq/gbq.py\u001b[0m in \u001b[0;36mread_gbq\u001b[0;34m(query_or_table, project_id, index_col, col_order, reauth, auth_local_webserver, dialect, location, configuration, credentials, use_bqstorage_api, max_results, verbose, private_key, progress_bar_type, dtypes, auth_redirect_uri, client_id, client_secret)\u001b[0m\n\u001b[1;32m    941\u001b[0m \u001b[0;34m\u001b[0m\u001b[0m\n\u001b[1;32m    942\u001b[0m     \u001b[0;32mif\u001b[0m \u001b[0m_is_query\u001b[0m\u001b[0;34m(\u001b[0m\u001b[0mquery_or_table\u001b[0m\u001b[0;34m)\u001b[0m\u001b[0;34m:\u001b[0m\u001b[0;34m\u001b[0m\u001b[0;34m\u001b[0m\u001b[0m\n\u001b[0;32m--> 943\u001b[0;31m         final_df = connector.run_query(\n\u001b[0m\u001b[1;32m    944\u001b[0m             \u001b[0mquery_or_table\u001b[0m\u001b[0;34m,\u001b[0m\u001b[0;34m\u001b[0m\u001b[0;34m\u001b[0m\u001b[0m\n\u001b[1;32m    945\u001b[0m             \u001b[0mconfiguration\u001b[0m\u001b[0;34m=\u001b[0m\u001b[0mconfiguration\u001b[0m\u001b[0;34m,\u001b[0m\u001b[0;34m\u001b[0m\u001b[0;34m\u001b[0m\u001b[0m\n",
            "\u001b[0;32m/usr/local/lib/python3.10/dist-packages/pandas_gbq/gbq.py\u001b[0m in \u001b[0;36mrun_query\u001b[0;34m(self, query, max_results, progress_bar_type, **kwargs)\u001b[0m\n\u001b[1;32m    527\u001b[0m             \u001b[0mquery_reply\u001b[0m\u001b[0;34m.\u001b[0m\u001b[0mresult\u001b[0m\u001b[0;34m(\u001b[0m\u001b[0;34m)\u001b[0m\u001b[0;34m\u001b[0m\u001b[0;34m\u001b[0m\u001b[0m\n\u001b[1;32m    528\u001b[0m         \u001b[0;32mexcept\u001b[0m \u001b[0mself\u001b[0m\u001b[0;34m.\u001b[0m\u001b[0mhttp_error\u001b[0m \u001b[0;32mas\u001b[0m \u001b[0mex\u001b[0m\u001b[0;34m:\u001b[0m\u001b[0;34m\u001b[0m\u001b[0;34m\u001b[0m\u001b[0m\n\u001b[0;32m--> 529\u001b[0;31m             \u001b[0mself\u001b[0m\u001b[0;34m.\u001b[0m\u001b[0mprocess_http_error\u001b[0m\u001b[0;34m(\u001b[0m\u001b[0mex\u001b[0m\u001b[0;34m)\u001b[0m\u001b[0;34m\u001b[0m\u001b[0;34m\u001b[0m\u001b[0m\n\u001b[0m\u001b[1;32m    530\u001b[0m \u001b[0;34m\u001b[0m\u001b[0m\n\u001b[1;32m    531\u001b[0m         \u001b[0;31m# Avoid attempting to download results from DML queries, which have no\u001b[0m\u001b[0;34m\u001b[0m\u001b[0;34m\u001b[0m\u001b[0m\n",
            "\u001b[0;32m/usr/local/lib/python3.10/dist-packages/pandas_gbq/gbq.py\u001b[0m in \u001b[0;36mprocess_http_error\u001b[0;34m(ex)\u001b[0m\n\u001b[1;32m    394\u001b[0m             \u001b[0;32mraise\u001b[0m \u001b[0mTableCreationError\u001b[0m\u001b[0;34m(\u001b[0m\u001b[0;34mf\"Reason: {error_message}\"\u001b[0m\u001b[0;34m)\u001b[0m\u001b[0;34m\u001b[0m\u001b[0;34m\u001b[0m\u001b[0m\n\u001b[1;32m    395\u001b[0m         \u001b[0;32melse\u001b[0m\u001b[0;34m:\u001b[0m\u001b[0;34m\u001b[0m\u001b[0;34m\u001b[0m\u001b[0m\n\u001b[0;32m--> 396\u001b[0;31m             \u001b[0;32mraise\u001b[0m \u001b[0mGenericGBQException\u001b[0m\u001b[0;34m(\u001b[0m\u001b[0;34m\"Reason: {0}\"\u001b[0m\u001b[0;34m.\u001b[0m\u001b[0mformat\u001b[0m\u001b[0;34m(\u001b[0m\u001b[0mex\u001b[0m\u001b[0;34m)\u001b[0m\u001b[0;34m)\u001b[0m \u001b[0;32mfrom\u001b[0m \u001b[0mex\u001b[0m\u001b[0;34m\u001b[0m\u001b[0;34m\u001b[0m\u001b[0m\n\u001b[0m\u001b[1;32m    397\u001b[0m \u001b[0;34m\u001b[0m\u001b[0m\n\u001b[1;32m    398\u001b[0m     def download_table(\n",
            "\u001b[0;31mGenericGBQException\u001b[0m: Reason: 404 Not found: Table doh-covid-dwh:sari_source.30_sari_20240712 was not found in location US; reason: notFound, message: Not found: Table doh-covid-dwh:sari_source.30_sari_20240712 was not found in location US\n\nLocation: US\nJob ID: 8b6ca06a-a61c-4bdd-ba73-f56c4bf9d773\n"
          ]
        }
      ]
    },
    {
      "cell_type": "markdown",
      "source": [
        "## **Generate Dropped Line List**"
      ],
      "metadata": {
        "id": "kIKQO7hkEftD"
      }
    },
    {
      "cell_type": "code",
      "source": [
        "query = \"\"\"CALL `{}.{}.sp_generate_dropped_cases`()\"\"\".format(project_id, dataset)\n",
        "\n",
        "job = client.query(query)\n",
        "job.result()"
      ],
      "metadata": {
        "id": "jjC-Zp4MEe2D"
      },
      "execution_count": null,
      "outputs": []
    },
    {
      "cell_type": "markdown",
      "source": [
        "## **Internal Case Bulletin**"
      ],
      "metadata": {
        "id": "uIfBACUg5AiW"
      }
    },
    {
      "cell_type": "markdown",
      "source": [
        "Total cases/New cases/Total confirmed/New confirmed/Total death/New deaths"
      ],
      "metadata": {
        "id": "iNiJ_PIjwoN-"
      }
    },
    {
      "cell_type": "code",
      "source": [
        "query = \"\"\"\n",
        "    SELECT\n",
        "      COUNT(1) AS total_cases,\n",
        "      COUNTIF(is_new = \"Y\") AS new_cases,\n",
        "      COUNTIF(final_case_classification = \"C\") AS total_confirmed,\n",
        "      COUNTIF(final_case_classification = \"C\" AND is_new = \"Y\") AS new_confirmed,\n",
        "\n",
        "      COUNTIF(outcome = \"D\") AS total_deaths,\n",
        "      COUNTIF(outcome = \"D\" AND is_new = \"Y\") AS new_deaths\n",
        "    FROM `{}.{}.30_sari_weekly_latest`\n",
        "\"\"\".format(project_id, dataset)\n",
        "\n",
        "cases_count = gbq.read_gbq(query, project_id = project_id, credentials = bq_credentials)"
      ],
      "metadata": {
        "colab": {
          "base_uri": "https://localhost:8080/"
        },
        "id": "GtajPlCl5EZn",
        "outputId": "13cecd48-c09d-4dc8-dea9-fc2d8d608a11"
      },
      "execution_count": null,
      "outputs": [
        {
          "output_type": "stream",
          "name": "stdout",
          "text": [
            "Downloading: 100%|\u001b[32m██████████\u001b[0m|\n"
          ]
        }
      ]
    },
    {
      "cell_type": "code",
      "source": [
        "total_cases = '{:,}'.format(cases_count['total_cases'].iloc[0])\n",
        "new_cases = '{:,}'.format(cases_count['new_cases'].iloc[0])\n",
        "total_confirmed = '{:,}'.format(cases_count['total_confirmed'].iloc[0])\n",
        "new_confirmed = '{:,}'.format(cases_count['new_confirmed'].iloc[0])\n",
        "total_deaths = '{:,}'.format(cases_count['total_deaths'].iloc[0])\n",
        "new_deaths = '{:,}'.format(cases_count['new_deaths'].iloc[0])"
      ],
      "metadata": {
        "id": "OBHnVkgX5MmX"
      },
      "execution_count": null,
      "outputs": []
    },
    {
      "cell_type": "markdown",
      "source": [
        "### Get the Top Regions of New Cases"
      ],
      "metadata": {
        "id": "6nifnV0V5NEq"
      }
    },
    {
      "cell_type": "code",
      "source": [
        "query = \"\"\"\n",
        "    SELECT\n",
        "      *,\n",
        "      row_number() over(order by _count DESC) AS row_num\n",
        "    FROM (\n",
        "      SELECT\n",
        "        `doh-covid-dwh.edcs_20_trans.fx_cb_reg`(region) AS region,\n",
        "        count(1) AS _count,\n",
        "      FROM `{}.{}.30_sari_weekly_latest`\n",
        "      WHERE is_new = \"Y\"\n",
        "      GROUP BY 1 ORDER BY 2 DESC\n",
        "      LIMIT 5\n",
        "    )\n",
        "\"\"\".format(project_id, dataset)\n",
        "\n",
        "top_reg_bd = gbq.read_gbq(query, project_id = project_id, credentials = bq_credentials)"
      ],
      "metadata": {
        "colab": {
          "base_uri": "https://localhost:8080/"
        },
        "id": "fc6gMNqg5OxZ",
        "outputId": "7b1777a1-11bd-4a46-963d-37fdf2c04c36"
      },
      "execution_count": null,
      "outputs": [
        {
          "output_type": "stream",
          "name": "stdout",
          "text": [
            "Downloading: 100%|\u001b[32m██████████\u001b[0m|\n"
          ]
        }
      ]
    },
    {
      "cell_type": "code",
      "source": [
        "top1_reg = top_reg_bd.loc[top_reg_bd['row_num'] == 1, 'region'].iloc[0]\n",
        "top1_cnt = '{:,}'.format(top_reg_bd.loc[top_reg_bd['row_num'] == 1, '_count'].iloc[0])\n",
        "top2_reg = top_reg_bd.loc[top_reg_bd['row_num'] == 2, 'region'].iloc[0]\n",
        "top2_cnt = '{:,}'.format(top_reg_bd.loc[top_reg_bd['row_num'] == 2, '_count'].iloc[0])\n",
        "top3_reg = top_reg_bd.loc[top_reg_bd['row_num'] == 3, 'region'].iloc[0]\n",
        "top3_cnt = '{:,}'.format(top_reg_bd.loc[top_reg_bd['row_num'] == 3, '_count'].iloc[0])\n",
        "top4_reg = top_reg_bd.loc[top_reg_bd['row_num'] == 4, 'region'].iloc[0]\n",
        "top4_cnt = '{:,}'.format(top_reg_bd.loc[top_reg_bd['row_num'] == 4, '_count'].iloc[0])\n",
        "top5_reg = top_reg_bd.loc[top_reg_bd['row_num'] == 5, 'region'].iloc[0]\n",
        "top5_cnt = '{:,}'.format(top_reg_bd.loc[top_reg_bd['row_num'] == 5, '_count'].iloc[0])"
      ],
      "metadata": {
        "id": "WKhUrIrX5Sac"
      },
      "execution_count": null,
      "outputs": []
    },
    {
      "cell_type": "markdown",
      "source": [
        "### Get the previous cases with updates"
      ],
      "metadata": {
        "id": "4b5-HvCd5RcO"
      }
    },
    {
      "cell_type": "code",
      "source": [
        "query = \"\"\"\n",
        "    SELECT\n",
        "      COUNTIF(prev_cc = \"S\" AND latest_cc = \"C\") AS s_to_c,\n",
        "    FROM (\n",
        "      SELECT\n",
        "        a.final_case_classification AS latest_cc,\n",
        "        b.final_case_classification AS prev_cc,\n",
        "        IF(a.final_case_classification != b.final_case_classification, \"diff\", \"same\") AS if_same\n",
        "      FROM `{}.{}.30_sari_weekly_latest` a\n",
        "      LEFT JOIN `{}.{}.30_sari_{}` b\n",
        "      ON a.case_id = b.case_id\n",
        "    )\n",
        "\"\"\".format(project_id, dataset, project_id, dataset, last_friday_line_list)\n",
        "\n",
        "w_updates = gbq.read_gbq(query, project_id = project_id, credentials = bq_credentials)"
      ],
      "metadata": {
        "colab": {
          "base_uri": "https://localhost:8080/"
        },
        "id": "QSmXeOq55VIQ",
        "outputId": "41714bfa-8ec2-46f3-d028-ecb956ed4b35"
      },
      "execution_count": null,
      "outputs": [
        {
          "output_type": "stream",
          "name": "stdout",
          "text": [
            "Downloading: 100%|\u001b[32m██████████\u001b[0m|\n"
          ]
        }
      ]
    },
    {
      "cell_type": "code",
      "source": [
        "s_to_c = '{:,}'.format(w_updates['s_to_c'].iloc[0])"
      ],
      "metadata": {
        "id": "6lnWRWa_5WsR"
      },
      "execution_count": null,
      "outputs": []
    },
    {
      "cell_type": "markdown",
      "source": [
        "### Printout: Case Bulletin"
      ],
      "metadata": {
        "id": "u7gDhbbE5YCl"
      }
    },
    {
      "cell_type": "code",
      "source": [
        "case_bulletin = \"\"\"\n",
        "[Internal Bulletin]\n",
        "SARI Case Data as of Morbidity Week {0}\n",
        "\n",
        "Total Cases: {1} [{2} cases added]\n",
        "\n",
        "Top Regions of New Cases:\n",
        "1. {3} - {4}\n",
        "2. {5} - {6}\n",
        "3. {7} - {8}\n",
        "4. {9} - {10}\n",
        "5. {11} - {12}\n",
        "\n",
        "Total Confirmed Cases: {13}\n",
        "   Newly added: {14}\n",
        "Previous cases with update:\n",
        "   Suspect to Confirmed: {15}\n",
        "\n",
        "Total Deaths: {16} [{17} cases added]\n",
        "\"\"\".format(previous_week_number,\n",
        "           total_cases, new_cases,\n",
        "           top1_reg, top1_cnt,\n",
        "           top2_reg, top2_cnt,\n",
        "           top3_reg, top3_cnt,\n",
        "           top4_reg, top4_cnt,\n",
        "           top5_reg, top5_cnt,\n",
        "           total_confirmed, new_confirmed,\n",
        "           s_to_c,\n",
        "           total_deaths, new_deaths)\n",
        "\n",
        "print(case_bulletin)"
      ],
      "metadata": {
        "colab": {
          "base_uri": "https://localhost:8080/"
        },
        "id": "YeRNFpO_5apX",
        "outputId": "4327d7c1-88f5-49d7-e775-a3d5137c9a5b"
      },
      "execution_count": null,
      "outputs": [
        {
          "output_type": "stream",
          "name": "stdout",
          "text": [
            "\n",
            "[Internal Bulletin]\n",
            "SARI Case Data as of Morbidity Week 28\n",
            "\n",
            "Total Cases: 14,607 [2,078 cases added]\n",
            "\n",
            "Top Regions of New Cases:\n",
            "1. Region IV-A - 617\n",
            "2. Region XI - 410\n",
            "3. CAR - 227\n",
            "4. NCR - 177\n",
            "5. Region IV-B - 164\n",
            "\n",
            "Total Confirmed Cases: 1,129\n",
            "   Newly added: 1\n",
            "Previous cases with update:\n",
            "   Suspect to Confirmed: 0\n",
            "\n",
            "Total Deaths: 239 [10 cases added]\n",
            "\n"
          ]
        }
      ]
    },
    {
      "cell_type": "markdown",
      "source": [
        "## **For Line List Sharing**"
      ],
      "metadata": {
        "id": "FWG0VPZkAR7Q"
      }
    },
    {
      "cell_type": "code",
      "source": [
        "region = [\"01\", \"02\", \"03\", \"4A\", \"4B\", \"05\", \"06\", \"07\", \"08\", \"09\", \"10\", \"11\", \"12\", \"BARMM\", \"CAR\", \"CARAGA\", \"NCR\"]"
      ],
      "metadata": {
        "id": "fqyb7VBcAXMA"
      },
      "execution_count": null,
      "outputs": []
    },
    {
      "cell_type": "markdown",
      "source": [
        "### **For Cleaned Line List**"
      ],
      "metadata": {
        "id": "zHHfERLUAZVr"
      }
    },
    {
      "cell_type": "code",
      "source": [
        "def save_regional_linelist(region):\n",
        "  query_linelist = \"\"\"\n",
        "  SELECT\n",
        "    *\n",
        "  FROM `sari_source.30_sari_weekly_latest`\n",
        "  WHERE region = \"{}\"\n",
        "    AND EXTRACT(YEAR FROM proxy_onset_date) = 2023\n",
        "    AND EXTRACT(YEAR FROM proxy_onset_date) = 2024\n",
        "  ORDER BY case_id\n",
        "  \"\"\".format(region)\n",
        "  query_linelist = gbq.read_gbq(query_linelist, project_id=project_id, credentials=bq_credentials)\n",
        "\n",
        "  # temp_name = \"CLEANED_\" + region + \"_AMES_MW{}.xlsx\".format(previous_week_number)\n",
        "  temp_name = \"CLEANED_\" + region + \"_EDCS_2024.xlsx\"\n",
        "\n",
        "  query_linelist.to_excel(\"drive/MyDrive/EDCS Linelist Sharing/REGION {}/SARI/\".format(region) + temp_name, index=False)\n",
        "\n",
        "  # del linelist\n",
        "  print('Uploaded', temp_name)\n",
        "\n",
        "def check_excel(region):\n",
        "  # filename = \"CLEANED_{}_AMES_MW{}.xlsx\".format(region, previous_week_number)\n",
        "  filename = \"CLEANED_{}_EDCS_2024.xlsx\".format(region)\n",
        "  if filename not in os.listdir(\"drive/MyDrive/EDCS Linelist Sharing/REGION _{}/\".format(region)):\n",
        "\n",
        "    raise Exception(\"{} is missing! Please recheck your code!\".format(filename))"
      ],
      "metadata": {
        "id": "08p-7vGvAd9x"
      },
      "execution_count": null,
      "outputs": []
    },
    {
      "cell_type": "code",
      "source": [
        "#save each region file as separate excels\n",
        "region_list = [\"01\", \"02\", \"03\", \"4A\", \"4B\", \"05\", \"06\", \"07\", \"08\", \"09\", \"10\", \"11\", \"12\", \"BARMM\", \"CAR\", \"CARAGA\", \"NCR\"]\n",
        "for region in region_list:\n",
        "  save_regional_linelist(region)"
      ],
      "metadata": {
        "id": "7Q3nAjH-AgzT",
        "colab": {
          "base_uri": "https://localhost:8080/",
          "height": 338
        },
        "outputId": "24c7d1ff-99ba-4c70-b1be-759613160e41"
      },
      "execution_count": null,
      "outputs": [
        {
          "output_type": "stream",
          "name": "stdout",
          "text": [
            "Downloading: |\u001b[32m          \u001b[0m|\n"
          ]
        },
        {
          "output_type": "error",
          "ename": "OSError",
          "evalue": "Cannot save file into a non-existent directory: 'drive/MyDrive/EDCS Linelist Sharing/REGION 02/ILI'",
          "traceback": [
            "\u001b[0;31m---------------------------------------------------------------------------\u001b[0m",
            "\u001b[0;31mOSError\u001b[0m                                   Traceback (most recent call last)",
            "\u001b[0;32m<ipython-input-40-b42bed28f2e3>\u001b[0m in \u001b[0;36m<cell line: 3>\u001b[0;34m()\u001b[0m\n\u001b[1;32m      2\u001b[0m \u001b[0mregion_list\u001b[0m \u001b[0;34m=\u001b[0m \u001b[0;34m[\u001b[0m\u001b[0;34m\"02\"\u001b[0m\u001b[0;34m,\u001b[0m \u001b[0;34m\"03\"\u001b[0m\u001b[0;34m,\u001b[0m \u001b[0;34m\"4A\"\u001b[0m\u001b[0;34m,\u001b[0m \u001b[0;34m\"4B\"\u001b[0m\u001b[0;34m,\u001b[0m \u001b[0;34m\"05\"\u001b[0m\u001b[0;34m,\u001b[0m \u001b[0;34m\"06\"\u001b[0m\u001b[0;34m,\u001b[0m \u001b[0;34m\"07\"\u001b[0m\u001b[0;34m,\u001b[0m \u001b[0;34m\"08\"\u001b[0m\u001b[0;34m,\u001b[0m \u001b[0;34m\"09\"\u001b[0m\u001b[0;34m,\u001b[0m \u001b[0;34m\"10\"\u001b[0m\u001b[0;34m,\u001b[0m \u001b[0;34m\"11\"\u001b[0m\u001b[0;34m,\u001b[0m \u001b[0;34m\"12\"\u001b[0m\u001b[0;34m,\u001b[0m \u001b[0;34m\"BARMM\"\u001b[0m\u001b[0;34m,\u001b[0m \u001b[0;34m\"CAR\"\u001b[0m\u001b[0;34m,\u001b[0m \u001b[0;34m\"CARAGA\"\u001b[0m\u001b[0;34m,\u001b[0m \u001b[0;34m\"NCR\"\u001b[0m\u001b[0;34m]\u001b[0m\u001b[0;34m\u001b[0m\u001b[0;34m\u001b[0m\u001b[0m\n\u001b[1;32m      3\u001b[0m \u001b[0;32mfor\u001b[0m \u001b[0mregion\u001b[0m \u001b[0;32min\u001b[0m \u001b[0mregion_list\u001b[0m\u001b[0;34m:\u001b[0m\u001b[0;34m\u001b[0m\u001b[0;34m\u001b[0m\u001b[0m\n\u001b[0;32m----> 4\u001b[0;31m   \u001b[0msave_regional_linelist\u001b[0m\u001b[0;34m(\u001b[0m\u001b[0mregion\u001b[0m\u001b[0;34m)\u001b[0m\u001b[0;34m\u001b[0m\u001b[0;34m\u001b[0m\u001b[0m\n\u001b[0m",
            "\u001b[0;32m<ipython-input-38-5fe12a94a3b5>\u001b[0m in \u001b[0;36msave_regional_linelist\u001b[0;34m(region)\u001b[0m\n\u001b[1;32m     14\u001b[0m   \u001b[0mtemp_name\u001b[0m \u001b[0;34m=\u001b[0m \u001b[0;34m\"CLEANED_\"\u001b[0m \u001b[0;34m+\u001b[0m \u001b[0mregion\u001b[0m \u001b[0;34m+\u001b[0m \u001b[0;34m\"_EDCS_2024.xlsx\"\u001b[0m\u001b[0;34m\u001b[0m\u001b[0;34m\u001b[0m\u001b[0m\n\u001b[1;32m     15\u001b[0m \u001b[0;34m\u001b[0m\u001b[0m\n\u001b[0;32m---> 16\u001b[0;31m   \u001b[0mquery_linelist\u001b[0m\u001b[0;34m.\u001b[0m\u001b[0mto_excel\u001b[0m\u001b[0;34m(\u001b[0m\u001b[0;34m\"drive/MyDrive/EDCS Linelist Sharing/REGION {}/ILI/\"\u001b[0m\u001b[0;34m.\u001b[0m\u001b[0mformat\u001b[0m\u001b[0;34m(\u001b[0m\u001b[0mregion\u001b[0m\u001b[0;34m)\u001b[0m \u001b[0;34m+\u001b[0m \u001b[0mtemp_name\u001b[0m\u001b[0;34m,\u001b[0m \u001b[0mindex\u001b[0m\u001b[0;34m=\u001b[0m\u001b[0;32mFalse\u001b[0m\u001b[0;34m)\u001b[0m\u001b[0;34m\u001b[0m\u001b[0;34m\u001b[0m\u001b[0m\n\u001b[0m\u001b[1;32m     17\u001b[0m \u001b[0;34m\u001b[0m\u001b[0m\n\u001b[1;32m     18\u001b[0m   \u001b[0;31m# del linelist\u001b[0m\u001b[0;34m\u001b[0m\u001b[0;34m\u001b[0m\u001b[0m\n",
            "\u001b[0;32m/usr/local/lib/python3.10/dist-packages/pandas/core/generic.py\u001b[0m in \u001b[0;36mto_excel\u001b[0;34m(self, excel_writer, sheet_name, na_rep, float_format, columns, header, index, index_label, startrow, startcol, engine, merge_cells, inf_rep, freeze_panes, storage_options)\u001b[0m\n\u001b[1;32m   2250\u001b[0m             \u001b[0minf_rep\u001b[0m\u001b[0;34m=\u001b[0m\u001b[0minf_rep\u001b[0m\u001b[0;34m,\u001b[0m\u001b[0;34m\u001b[0m\u001b[0;34m\u001b[0m\u001b[0m\n\u001b[1;32m   2251\u001b[0m         )\n\u001b[0;32m-> 2252\u001b[0;31m         formatter.write(\n\u001b[0m\u001b[1;32m   2253\u001b[0m             \u001b[0mexcel_writer\u001b[0m\u001b[0;34m,\u001b[0m\u001b[0;34m\u001b[0m\u001b[0;34m\u001b[0m\u001b[0m\n\u001b[1;32m   2254\u001b[0m             \u001b[0msheet_name\u001b[0m\u001b[0;34m=\u001b[0m\u001b[0msheet_name\u001b[0m\u001b[0;34m,\u001b[0m\u001b[0;34m\u001b[0m\u001b[0;34m\u001b[0m\u001b[0m\n",
            "\u001b[0;32m/usr/local/lib/python3.10/dist-packages/pandas/io/formats/excel.py\u001b[0m in \u001b[0;36mwrite\u001b[0;34m(self, writer, sheet_name, startrow, startcol, freeze_panes, engine, storage_options)\u001b[0m\n\u001b[1;32m    932\u001b[0m             \u001b[0;31m# error: Cannot instantiate abstract class 'ExcelWriter' with abstract\u001b[0m\u001b[0;34m\u001b[0m\u001b[0;34m\u001b[0m\u001b[0m\n\u001b[1;32m    933\u001b[0m             \u001b[0;31m# attributes 'engine', 'save', 'supported_extensions' and 'write_cells'\u001b[0m\u001b[0;34m\u001b[0m\u001b[0;34m\u001b[0m\u001b[0m\n\u001b[0;32m--> 934\u001b[0;31m             writer = ExcelWriter(  # type: ignore[abstract]\n\u001b[0m\u001b[1;32m    935\u001b[0m                 \u001b[0mwriter\u001b[0m\u001b[0;34m,\u001b[0m \u001b[0mengine\u001b[0m\u001b[0;34m=\u001b[0m\u001b[0mengine\u001b[0m\u001b[0;34m,\u001b[0m \u001b[0mstorage_options\u001b[0m\u001b[0;34m=\u001b[0m\u001b[0mstorage_options\u001b[0m\u001b[0;34m\u001b[0m\u001b[0;34m\u001b[0m\u001b[0m\n\u001b[1;32m    936\u001b[0m             )\n",
            "\u001b[0;32m/usr/local/lib/python3.10/dist-packages/pandas/io/excel/_openpyxl.py\u001b[0m in \u001b[0;36m__init__\u001b[0;34m(self, path, engine, date_format, datetime_format, mode, storage_options, if_sheet_exists, engine_kwargs, **kwargs)\u001b[0m\n\u001b[1;32m     58\u001b[0m         \u001b[0mengine_kwargs\u001b[0m \u001b[0;34m=\u001b[0m \u001b[0mcombine_kwargs\u001b[0m\u001b[0;34m(\u001b[0m\u001b[0mengine_kwargs\u001b[0m\u001b[0;34m,\u001b[0m \u001b[0mkwargs\u001b[0m\u001b[0;34m)\u001b[0m\u001b[0;34m\u001b[0m\u001b[0;34m\u001b[0m\u001b[0m\n\u001b[1;32m     59\u001b[0m \u001b[0;34m\u001b[0m\u001b[0m\n\u001b[0;32m---> 60\u001b[0;31m         super().__init__(\n\u001b[0m\u001b[1;32m     61\u001b[0m             \u001b[0mpath\u001b[0m\u001b[0;34m,\u001b[0m\u001b[0;34m\u001b[0m\u001b[0;34m\u001b[0m\u001b[0m\n\u001b[1;32m     62\u001b[0m             \u001b[0mmode\u001b[0m\u001b[0;34m=\u001b[0m\u001b[0mmode\u001b[0m\u001b[0;34m,\u001b[0m\u001b[0;34m\u001b[0m\u001b[0;34m\u001b[0m\u001b[0m\n",
            "\u001b[0;32m/usr/local/lib/python3.10/dist-packages/pandas/io/excel/_base.py\u001b[0m in \u001b[0;36m__init__\u001b[0;34m(self, path, engine, date_format, datetime_format, mode, storage_options, if_sheet_exists, engine_kwargs)\u001b[0m\n\u001b[1;32m   1217\u001b[0m         )\n\u001b[1;32m   1218\u001b[0m         \u001b[0;32mif\u001b[0m \u001b[0;32mnot\u001b[0m \u001b[0misinstance\u001b[0m\u001b[0;34m(\u001b[0m\u001b[0mpath\u001b[0m\u001b[0;34m,\u001b[0m \u001b[0mExcelWriter\u001b[0m\u001b[0;34m)\u001b[0m\u001b[0;34m:\u001b[0m\u001b[0;34m\u001b[0m\u001b[0;34m\u001b[0m\u001b[0m\n\u001b[0;32m-> 1219\u001b[0;31m             self._handles = get_handle(\n\u001b[0m\u001b[1;32m   1220\u001b[0m                 \u001b[0mpath\u001b[0m\u001b[0;34m,\u001b[0m \u001b[0mmode\u001b[0m\u001b[0;34m,\u001b[0m \u001b[0mstorage_options\u001b[0m\u001b[0;34m=\u001b[0m\u001b[0mstorage_options\u001b[0m\u001b[0;34m,\u001b[0m \u001b[0mis_text\u001b[0m\u001b[0;34m=\u001b[0m\u001b[0;32mFalse\u001b[0m\u001b[0;34m\u001b[0m\u001b[0;34m\u001b[0m\u001b[0m\n\u001b[1;32m   1221\u001b[0m             )\n",
            "\u001b[0;32m/usr/local/lib/python3.10/dist-packages/pandas/io/common.py\u001b[0m in \u001b[0;36mget_handle\u001b[0;34m(path_or_buf, mode, encoding, compression, memory_map, is_text, errors, storage_options)\u001b[0m\n\u001b[1;32m    735\u001b[0m     \u001b[0;31m# Only for write methods\u001b[0m\u001b[0;34m\u001b[0m\u001b[0;34m\u001b[0m\u001b[0m\n\u001b[1;32m    736\u001b[0m     \u001b[0;32mif\u001b[0m \u001b[0;34m\"r\"\u001b[0m \u001b[0;32mnot\u001b[0m \u001b[0;32min\u001b[0m \u001b[0mmode\u001b[0m \u001b[0;32mand\u001b[0m \u001b[0mis_path\u001b[0m\u001b[0;34m:\u001b[0m\u001b[0;34m\u001b[0m\u001b[0;34m\u001b[0m\u001b[0m\n\u001b[0;32m--> 737\u001b[0;31m         \u001b[0mcheck_parent_directory\u001b[0m\u001b[0;34m(\u001b[0m\u001b[0mstr\u001b[0m\u001b[0;34m(\u001b[0m\u001b[0mhandle\u001b[0m\u001b[0;34m)\u001b[0m\u001b[0;34m)\u001b[0m\u001b[0;34m\u001b[0m\u001b[0;34m\u001b[0m\u001b[0m\n\u001b[0m\u001b[1;32m    738\u001b[0m \u001b[0;34m\u001b[0m\u001b[0m\n\u001b[1;32m    739\u001b[0m     \u001b[0;32mif\u001b[0m \u001b[0mcompression\u001b[0m\u001b[0;34m:\u001b[0m\u001b[0;34m\u001b[0m\u001b[0;34m\u001b[0m\u001b[0m\n",
            "\u001b[0;32m/usr/local/lib/python3.10/dist-packages/pandas/io/common.py\u001b[0m in \u001b[0;36mcheck_parent_directory\u001b[0;34m(path)\u001b[0m\n\u001b[1;32m    598\u001b[0m     \u001b[0mparent\u001b[0m \u001b[0;34m=\u001b[0m \u001b[0mPath\u001b[0m\u001b[0;34m(\u001b[0m\u001b[0mpath\u001b[0m\u001b[0;34m)\u001b[0m\u001b[0;34m.\u001b[0m\u001b[0mparent\u001b[0m\u001b[0;34m\u001b[0m\u001b[0;34m\u001b[0m\u001b[0m\n\u001b[1;32m    599\u001b[0m     \u001b[0;32mif\u001b[0m \u001b[0;32mnot\u001b[0m \u001b[0mparent\u001b[0m\u001b[0;34m.\u001b[0m\u001b[0mis_dir\u001b[0m\u001b[0;34m(\u001b[0m\u001b[0;34m)\u001b[0m\u001b[0;34m:\u001b[0m\u001b[0;34m\u001b[0m\u001b[0;34m\u001b[0m\u001b[0m\n\u001b[0;32m--> 600\u001b[0;31m         \u001b[0;32mraise\u001b[0m \u001b[0mOSError\u001b[0m\u001b[0;34m(\u001b[0m\u001b[0;34mrf\"Cannot save file into a non-existent directory: '{parent}'\"\u001b[0m\u001b[0;34m)\u001b[0m\u001b[0;34m\u001b[0m\u001b[0;34m\u001b[0m\u001b[0m\n\u001b[0m\u001b[1;32m    601\u001b[0m \u001b[0;34m\u001b[0m\u001b[0m\n\u001b[1;32m    602\u001b[0m \u001b[0;34m\u001b[0m\u001b[0m\n",
            "\u001b[0;31mOSError\u001b[0m: Cannot save file into a non-existent directory: 'drive/MyDrive/EDCS Linelist Sharing/REGION 02/ILI'"
          ]
        }
      ]
    },
    {
      "cell_type": "markdown",
      "source": [
        "### **For Verification**"
      ],
      "metadata": {
        "id": "huIAk4ZCBZvx"
      }
    },
    {
      "cell_type": "code",
      "source": [
        "def save_regional_linelist(region):\n",
        "  query_linelist = \"\"\"\n",
        "  SELECT\n",
        "    *\n",
        "  FROM `sari_source.30_sari_weekly_latest`\n",
        "  WHERE region = \"{}\"\n",
        "    AND remarks IS NOT NULL\n",
        "    AND EXTRACT(YEAR FROM proxy_onset_date) = 2023\n",
        "    AND EXTRACT(YEAR FROM proxy_onset_date) = 2024\n",
        "  ORDER BY case_id\n",
        "  \"\"\".format(region)\n",
        "  query_linelist = gbq.read_gbq(query_linelist, project_id=project_id, credentials=bq_credentials)\n",
        "\n",
        "  # temp_name = \"FOR_VERIFICATION_\" + region + \"_AMES_MW{}.xlsx\".format(previous_week_number)\n",
        "  temp_name = \"FOR_VERIFICATION_\" + region + \"_EDCS_2024.xlsx\".format(previous_week_number)\n",
        "\n",
        "  query_linelist.to_excel(\"drive/MyDrive/EDCS Linelist Sharing/REGION {}/SARI/\".format(region) + temp_name, index=False)\n",
        "\n",
        "  # del linelist\n",
        "  print('Uploaded', temp_name)\n",
        "\n",
        "def check_excel(region):\n",
        "  # filename = \"FOR_VERIFICATION_{}_AMES_MW{}.xlsx\".format(region, previous_week_number)\n",
        "  filename = \"FOR_VERIFICATION_{}_EDCS_2024.xlsx\".format(region)\n",
        "  if filename not in os.listdir(\"drive/MyDrive/EDCS Linelist Sharing/REGION _{}/\".format(region)):\n",
        "\n",
        "    raise Exception(\"{} is missing! Please recheck your code!\".format(filename))"
      ],
      "metadata": {
        "id": "pND-apjBBgxD"
      },
      "execution_count": null,
      "outputs": []
    },
    {
      "cell_type": "code",
      "source": [
        "#save each region file as separate excels\n",
        "region_list = [\"01\", \"02\", \"03\", \"4A\", \"4B\", \"05\", \"06\", \"07\", \"08\", \"09\", \"10\", \"11\", \"12\", \"BARMM\", \"CAR\", \"CARAGA\", \"NCR\"]\n",
        "for region in region_list:\n",
        "  save_regional_linelist(region)"
      ],
      "metadata": {
        "id": "i0T-xganBuG0",
        "colab": {
          "base_uri": "https://localhost:8080/",
          "height": 529
        },
        "outputId": "546aef1a-78a5-4658-fb10-5bdf6da1f1a5"
      },
      "execution_count": null,
      "outputs": [
        {
          "output_type": "error",
          "ename": "GenericGBQException",
          "evalue": "Reason: 400 Unrecognized name: remarks at [6:9]; reason: invalidQuery, location: query, message: Unrecognized name: remarks at [6:9]\n\nLocation: US\nJob ID: 52d8b026-745d-4c3b-a521-4b7bc575ec32\n",
          "traceback": [
            "\u001b[0;31m---------------------------------------------------------------------------\u001b[0m",
            "\u001b[0;31mBadRequest\u001b[0m                                Traceback (most recent call last)",
            "\u001b[0;32m/usr/local/lib/python3.10/dist-packages/pandas_gbq/gbq.py\u001b[0m in \u001b[0;36mrun_query\u001b[0;34m(self, query, max_results, progress_bar_type, **kwargs)\u001b[0m\n\u001b[1;32m    526\u001b[0m         \u001b[0;32mtry\u001b[0m\u001b[0;34m:\u001b[0m\u001b[0;34m\u001b[0m\u001b[0;34m\u001b[0m\u001b[0m\n\u001b[0;32m--> 527\u001b[0;31m             \u001b[0mquery_reply\u001b[0m\u001b[0;34m.\u001b[0m\u001b[0mresult\u001b[0m\u001b[0;34m(\u001b[0m\u001b[0;34m)\u001b[0m\u001b[0;34m\u001b[0m\u001b[0;34m\u001b[0m\u001b[0m\n\u001b[0m\u001b[1;32m    528\u001b[0m         \u001b[0;32mexcept\u001b[0m \u001b[0mself\u001b[0m\u001b[0;34m.\u001b[0m\u001b[0mhttp_error\u001b[0m \u001b[0;32mas\u001b[0m \u001b[0mex\u001b[0m\u001b[0;34m:\u001b[0m\u001b[0;34m\u001b[0m\u001b[0;34m\u001b[0m\u001b[0m\n",
            "\u001b[0;32m/usr/local/lib/python3.10/dist-packages/google/cloud/bigquery/job/query.py\u001b[0m in \u001b[0;36mresult\u001b[0;34m(self, page_size, max_results, retry, timeout, start_index, job_retry)\u001b[0m\n\u001b[1;32m   1625\u001b[0m                 \u001b[0;31m# long-running API, don't delay the next request at all.\u001b[0m\u001b[0;34m\u001b[0m\u001b[0;34m\u001b[0m\u001b[0m\n\u001b[0;32m-> 1626\u001b[0;31m                 \u001b[0;32mwhile\u001b[0m \u001b[0;32mnot\u001b[0m \u001b[0mis_job_done\u001b[0m\u001b[0;34m(\u001b[0m\u001b[0;34m)\u001b[0m\u001b[0;34m:\u001b[0m\u001b[0;34m\u001b[0m\u001b[0;34m\u001b[0m\u001b[0m\n\u001b[0m\u001b[1;32m   1627\u001b[0m                     \u001b[0;32mpass\u001b[0m\u001b[0;34m\u001b[0m\u001b[0;34m\u001b[0m\u001b[0m\n",
            "\u001b[0;32m/usr/local/lib/python3.10/dist-packages/google/api_core/retry.py\u001b[0m in \u001b[0;36mretry_wrapped_func\u001b[0;34m(*args, **kwargs)\u001b[0m\n\u001b[1;32m    348\u001b[0m             )\n\u001b[0;32m--> 349\u001b[0;31m             return retry_target(\n\u001b[0m\u001b[1;32m    350\u001b[0m                 \u001b[0mtarget\u001b[0m\u001b[0;34m,\u001b[0m\u001b[0;34m\u001b[0m\u001b[0;34m\u001b[0m\u001b[0m\n",
            "\u001b[0;32m/usr/local/lib/python3.10/dist-packages/google/api_core/retry.py\u001b[0m in \u001b[0;36mretry_target\u001b[0;34m(target, predicate, sleep_generator, timeout, on_error, **kwargs)\u001b[0m\n\u001b[1;32m    190\u001b[0m         \u001b[0;32mtry\u001b[0m\u001b[0;34m:\u001b[0m\u001b[0;34m\u001b[0m\u001b[0;34m\u001b[0m\u001b[0m\n\u001b[0;32m--> 191\u001b[0;31m             \u001b[0;32mreturn\u001b[0m \u001b[0mtarget\u001b[0m\u001b[0;34m(\u001b[0m\u001b[0;34m)\u001b[0m\u001b[0;34m\u001b[0m\u001b[0;34m\u001b[0m\u001b[0m\n\u001b[0m\u001b[1;32m    192\u001b[0m \u001b[0;34m\u001b[0m\u001b[0m\n",
            "\u001b[0;32m/usr/local/lib/python3.10/dist-packages/google/cloud/bigquery/job/query.py\u001b[0m in \u001b[0;36mis_job_done\u001b[0;34m()\u001b[0m\n\u001b[1;32m   1576\u001b[0m                         \u001b[0mrestart_query_job\u001b[0m \u001b[0;34m=\u001b[0m \u001b[0;32mTrue\u001b[0m\u001b[0;34m\u001b[0m\u001b[0;34m\u001b[0m\u001b[0m\n\u001b[0;32m-> 1577\u001b[0;31m                         \u001b[0;32mraise\u001b[0m \u001b[0mjob_failed_exception\u001b[0m\u001b[0;34m\u001b[0m\u001b[0;34m\u001b[0m\u001b[0m\n\u001b[0m\u001b[1;32m   1578\u001b[0m                     \u001b[0;32melse\u001b[0m\u001b[0;34m:\u001b[0m\u001b[0;34m\u001b[0m\u001b[0;34m\u001b[0m\u001b[0m\n",
            "\u001b[0;31mBadRequest\u001b[0m: 400 Unrecognized name: remarks at [6:9]; reason: invalidQuery, location: query, message: Unrecognized name: remarks at [6:9]\n\nLocation: US\nJob ID: 52d8b026-745d-4c3b-a521-4b7bc575ec32\n",
            "\nThe above exception was the direct cause of the following exception:\n",
            "\u001b[0;31mGenericGBQException\u001b[0m                       Traceback (most recent call last)",
            "\u001b[0;32m<ipython-input-42-b68f057ffb4f>\u001b[0m in \u001b[0;36m<cell line: 3>\u001b[0;34m()\u001b[0m\n\u001b[1;32m      2\u001b[0m \u001b[0mregion_list\u001b[0m \u001b[0;34m=\u001b[0m \u001b[0;34m[\u001b[0m\u001b[0;34m\"01\"\u001b[0m\u001b[0;34m,\u001b[0m \u001b[0;34m\"02\"\u001b[0m\u001b[0;34m,\u001b[0m \u001b[0;34m\"03\"\u001b[0m\u001b[0;34m,\u001b[0m \u001b[0;34m\"4A\"\u001b[0m\u001b[0;34m,\u001b[0m \u001b[0;34m\"4B\"\u001b[0m\u001b[0;34m,\u001b[0m \u001b[0;34m\"05\"\u001b[0m\u001b[0;34m,\u001b[0m \u001b[0;34m\"06\"\u001b[0m\u001b[0;34m,\u001b[0m \u001b[0;34m\"07\"\u001b[0m\u001b[0;34m,\u001b[0m \u001b[0;34m\"08\"\u001b[0m\u001b[0;34m,\u001b[0m \u001b[0;34m\"09\"\u001b[0m\u001b[0;34m,\u001b[0m \u001b[0;34m\"10\"\u001b[0m\u001b[0;34m,\u001b[0m \u001b[0;34m\"11\"\u001b[0m\u001b[0;34m,\u001b[0m \u001b[0;34m\"12\"\u001b[0m\u001b[0;34m,\u001b[0m \u001b[0;34m\"BARMM\"\u001b[0m\u001b[0;34m,\u001b[0m \u001b[0;34m\"CAR\"\u001b[0m\u001b[0;34m,\u001b[0m \u001b[0;34m\"CARAGA\"\u001b[0m\u001b[0;34m,\u001b[0m \u001b[0;34m\"NCR\"\u001b[0m\u001b[0;34m]\u001b[0m\u001b[0;34m\u001b[0m\u001b[0;34m\u001b[0m\u001b[0m\n\u001b[1;32m      3\u001b[0m \u001b[0;32mfor\u001b[0m \u001b[0mregion\u001b[0m \u001b[0;32min\u001b[0m \u001b[0mregion_list\u001b[0m\u001b[0;34m:\u001b[0m\u001b[0;34m\u001b[0m\u001b[0;34m\u001b[0m\u001b[0m\n\u001b[0;32m----> 4\u001b[0;31m   \u001b[0msave_regional_linelist\u001b[0m\u001b[0;34m(\u001b[0m\u001b[0mregion\u001b[0m\u001b[0;34m)\u001b[0m\u001b[0;34m\u001b[0m\u001b[0;34m\u001b[0m\u001b[0m\n\u001b[0m",
            "\u001b[0;32m<ipython-input-41-edfaca52ebd9>\u001b[0m in \u001b[0;36msave_regional_linelist\u001b[0;34m(region)\u001b[0m\n\u001b[1;32m     10\u001b[0m   \u001b[0mORDER\u001b[0m \u001b[0mBY\u001b[0m \u001b[0mcase_id\u001b[0m\u001b[0;34m\u001b[0m\u001b[0;34m\u001b[0m\u001b[0m\n\u001b[1;32m     11\u001b[0m   \"\"\".format(region)\n\u001b[0;32m---> 12\u001b[0;31m   \u001b[0mquery_linelist\u001b[0m \u001b[0;34m=\u001b[0m \u001b[0mgbq\u001b[0m\u001b[0;34m.\u001b[0m\u001b[0mread_gbq\u001b[0m\u001b[0;34m(\u001b[0m\u001b[0mquery_linelist\u001b[0m\u001b[0;34m,\u001b[0m \u001b[0mproject_id\u001b[0m\u001b[0;34m=\u001b[0m\u001b[0mproject_id\u001b[0m\u001b[0;34m,\u001b[0m \u001b[0mcredentials\u001b[0m\u001b[0;34m=\u001b[0m\u001b[0mbq_credentials\u001b[0m\u001b[0;34m)\u001b[0m\u001b[0;34m\u001b[0m\u001b[0;34m\u001b[0m\u001b[0m\n\u001b[0m\u001b[1;32m     13\u001b[0m \u001b[0;34m\u001b[0m\u001b[0m\n\u001b[1;32m     14\u001b[0m   \u001b[0;31m# temp_name = \"FOR_VERIFICATION_\" + region + \"_AMES_MW{}.xlsx\".format(previous_week_number)\u001b[0m\u001b[0;34m\u001b[0m\u001b[0;34m\u001b[0m\u001b[0m\n",
            "\u001b[0;32m/usr/local/lib/python3.10/dist-packages/pandas_gbq/gbq.py\u001b[0m in \u001b[0;36mread_gbq\u001b[0;34m(query_or_table, project_id, index_col, col_order, reauth, auth_local_webserver, dialect, location, configuration, credentials, use_bqstorage_api, max_results, verbose, private_key, progress_bar_type, dtypes, auth_redirect_uri, client_id, client_secret)\u001b[0m\n\u001b[1;32m    941\u001b[0m \u001b[0;34m\u001b[0m\u001b[0m\n\u001b[1;32m    942\u001b[0m     \u001b[0;32mif\u001b[0m \u001b[0m_is_query\u001b[0m\u001b[0;34m(\u001b[0m\u001b[0mquery_or_table\u001b[0m\u001b[0;34m)\u001b[0m\u001b[0;34m:\u001b[0m\u001b[0;34m\u001b[0m\u001b[0;34m\u001b[0m\u001b[0m\n\u001b[0;32m--> 943\u001b[0;31m         final_df = connector.run_query(\n\u001b[0m\u001b[1;32m    944\u001b[0m             \u001b[0mquery_or_table\u001b[0m\u001b[0;34m,\u001b[0m\u001b[0;34m\u001b[0m\u001b[0;34m\u001b[0m\u001b[0m\n\u001b[1;32m    945\u001b[0m             \u001b[0mconfiguration\u001b[0m\u001b[0;34m=\u001b[0m\u001b[0mconfiguration\u001b[0m\u001b[0;34m,\u001b[0m\u001b[0;34m\u001b[0m\u001b[0;34m\u001b[0m\u001b[0m\n",
            "\u001b[0;32m/usr/local/lib/python3.10/dist-packages/pandas_gbq/gbq.py\u001b[0m in \u001b[0;36mrun_query\u001b[0;34m(self, query, max_results, progress_bar_type, **kwargs)\u001b[0m\n\u001b[1;32m    527\u001b[0m             \u001b[0mquery_reply\u001b[0m\u001b[0;34m.\u001b[0m\u001b[0mresult\u001b[0m\u001b[0;34m(\u001b[0m\u001b[0;34m)\u001b[0m\u001b[0;34m\u001b[0m\u001b[0;34m\u001b[0m\u001b[0m\n\u001b[1;32m    528\u001b[0m         \u001b[0;32mexcept\u001b[0m \u001b[0mself\u001b[0m\u001b[0;34m.\u001b[0m\u001b[0mhttp_error\u001b[0m \u001b[0;32mas\u001b[0m \u001b[0mex\u001b[0m\u001b[0;34m:\u001b[0m\u001b[0;34m\u001b[0m\u001b[0;34m\u001b[0m\u001b[0m\n\u001b[0;32m--> 529\u001b[0;31m             \u001b[0mself\u001b[0m\u001b[0;34m.\u001b[0m\u001b[0mprocess_http_error\u001b[0m\u001b[0;34m(\u001b[0m\u001b[0mex\u001b[0m\u001b[0;34m)\u001b[0m\u001b[0;34m\u001b[0m\u001b[0;34m\u001b[0m\u001b[0m\n\u001b[0m\u001b[1;32m    530\u001b[0m \u001b[0;34m\u001b[0m\u001b[0m\n\u001b[1;32m    531\u001b[0m         \u001b[0;31m# Avoid attempting to download results from DML queries, which have no\u001b[0m\u001b[0;34m\u001b[0m\u001b[0;34m\u001b[0m\u001b[0m\n",
            "\u001b[0;32m/usr/local/lib/python3.10/dist-packages/pandas_gbq/gbq.py\u001b[0m in \u001b[0;36mprocess_http_error\u001b[0;34m(ex)\u001b[0m\n\u001b[1;32m    394\u001b[0m             \u001b[0;32mraise\u001b[0m \u001b[0mTableCreationError\u001b[0m\u001b[0;34m(\u001b[0m\u001b[0;34mf\"Reason: {error_message}\"\u001b[0m\u001b[0;34m)\u001b[0m\u001b[0;34m\u001b[0m\u001b[0;34m\u001b[0m\u001b[0m\n\u001b[1;32m    395\u001b[0m         \u001b[0;32melse\u001b[0m\u001b[0;34m:\u001b[0m\u001b[0;34m\u001b[0m\u001b[0;34m\u001b[0m\u001b[0m\n\u001b[0;32m--> 396\u001b[0;31m             \u001b[0;32mraise\u001b[0m \u001b[0mGenericGBQException\u001b[0m\u001b[0;34m(\u001b[0m\u001b[0;34m\"Reason: {0}\"\u001b[0m\u001b[0;34m.\u001b[0m\u001b[0mformat\u001b[0m\u001b[0;34m(\u001b[0m\u001b[0mex\u001b[0m\u001b[0;34m)\u001b[0m\u001b[0;34m)\u001b[0m \u001b[0;32mfrom\u001b[0m \u001b[0mex\u001b[0m\u001b[0;34m\u001b[0m\u001b[0;34m\u001b[0m\u001b[0m\n\u001b[0m\u001b[1;32m    397\u001b[0m \u001b[0;34m\u001b[0m\u001b[0m\n\u001b[1;32m    398\u001b[0m     def download_table(\n",
            "\u001b[0;31mGenericGBQException\u001b[0m: Reason: 400 Unrecognized name: remarks at [6:9]; reason: invalidQuery, location: query, message: Unrecognized name: remarks at [6:9]\n\nLocation: US\nJob ID: 52d8b026-745d-4c3b-a521-4b7bc575ec32\n"
          ]
        }
      ]
    },
    {
      "cell_type": "markdown",
      "source": [
        "## **END**"
      ],
      "metadata": {
        "id": "aIf8u-rZBcPY"
      }
    },
    {
      "cell_type": "code",
      "source": [
        "from IPython.display import Audio\n",
        "sound_file = 'https://www.soundjay.com/misc/small-bell-ring-01a.mp3'\n",
        "Audio(sound_file, autoplay=True)"
      ],
      "metadata": {
        "colab": {
          "base_uri": "https://localhost:8080/",
          "height": 52
        },
        "id": "p7lAGWRsFiQn",
        "outputId": "d1252bb1-f6da-4a1e-843d-f77c62490177"
      },
      "execution_count": null,
      "outputs": [
        {
          "output_type": "execute_result",
          "data": {
            "text/plain": [
              "<IPython.lib.display.Audio object>"
            ],
            "text/html": [
              "\n",
              "                <audio  controls=\"controls\" autoplay=\"autoplay\">\n",
              "                    <source src=\"data:audio/mpeg;base64,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\" type=\"audio/mpeg\" />\n",
              "                    Your browser does not support the audio element.\n",
              "                </audio>\n",
              "              "
            ]
          },
          "metadata": {},
          "execution_count": 1
        }
      ]
    },
    {
      "cell_type": "code",
      "source": [
        "raise Exception(\"Process ends here.\")"
      ],
      "metadata": {
        "colab": {
          "base_uri": "https://localhost:8080/",
          "height": 141
        },
        "id": "fXmeNGLLF4pP",
        "outputId": "1c211465-19f9-46c2-b56b-a56078cbfefd"
      },
      "execution_count": null,
      "outputs": [
        {
          "output_type": "error",
          "ename": "Exception",
          "evalue": "Process ends here.",
          "traceback": [
            "\u001b[0;31m---------------------------------------------------------------------------\u001b[0m",
            "\u001b[0;31mException\u001b[0m                                 Traceback (most recent call last)",
            "\u001b[0;32m<ipython-input-32-e6306b0a6180>\u001b[0m in \u001b[0;36m<cell line: 1>\u001b[0;34m()\u001b[0m\n\u001b[0;32m----> 1\u001b[0;31m \u001b[0;32mraise\u001b[0m \u001b[0mException\u001b[0m\u001b[0;34m(\u001b[0m\u001b[0;34m\"Process ends here.\"\u001b[0m\u001b[0;34m)\u001b[0m\u001b[0;34m\u001b[0m\u001b[0;34m\u001b[0m\u001b[0m\n\u001b[0m",
            "\u001b[0;31mException\u001b[0m: Process ends here."
          ]
        }
      ]
    }
  ],
  "metadata": {
    "colab": {
      "machine_shape": "hm",
      "provenance": [],
      "toc_visible": true,
      "include_colab_link": true
    },
    "kernelspec": {
      "display_name": "Python 3",
      "name": "python3"
    }
  },
  "nbformat": 4,
  "nbformat_minor": 0
}